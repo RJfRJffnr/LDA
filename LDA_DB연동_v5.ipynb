{
 "cells": [
  {
   "cell_type": "markdown",
   "id": "772b48fd",
   "metadata": {},
   "source": [
    "# LDA(Latent Dirichlet Allocation): 잠재 디리클레 할당"
   ]
  },
  {
   "cell_type": "markdown",
   "id": "86c12edf",
   "metadata": {},
   "source": [
    "https://wikidocs.net/40710 참고"
   ]
  },
  {
   "cell_type": "code",
   "execution_count": 1,
   "id": "b5878872",
   "metadata": {},
   "outputs": [],
   "source": [
    "import pymysql\n",
    "\n",
    "DB_HOST = 'localhost'\n",
    "DB_USER = 'pyuser'\n",
    "DB_PASSWD = 'pyuser'\n",
    "DB_NAME = 'pyuser'\n",
    "\n",
    "conn = pymysql.connect(host=DB_HOST, user=DB_USER, password=DB_PASSWD,\n",
    "                   db=DB_NAME, charset='utf8')\n",
    "curs = conn.cursor()\n",
    "sql = \"\"\"\n",
    "    select blog_content from lotte_blog\n",
    "    where blog_date between '20200101' and '20201231'\n",
    "\"\"\"\n",
    "curs.execute(sql)\n",
    "table_data = curs.fetchall() \n",
    "conn.close()"
   ]
  },
  {
   "cell_type": "code",
   "execution_count": 2,
   "id": "e76cbbf0",
   "metadata": {},
   "outputs": [],
   "source": [
    "import pandas as pd\n",
    "\n",
    "# df = pd.DataFrame(table_data,columns=['no','url','Date','Title','subtitle','Contents'])\n",
    "df = pd.DataFrame(table_data,columns=['Contents'])\n"
   ]
  },
  {
   "cell_type": "code",
   "execution_count": 3,
   "id": "a1aa0665",
   "metadata": {},
   "outputs": [
    {
     "name": "stdout",
     "output_type": "stream",
     "text": [
      "<class 'pandas.core.frame.DataFrame'>\n"
     ]
    }
   ],
   "source": [
    "\n",
    "# df [ 'Contents'   ]  <= Series타입,   df[ ['Contents'] ]  <== dataframe타입\n",
    "sentences = df[ ['Contents'] ]   \n",
    "\n",
    "# print로 type(text) 의 결과는 Dataframe타입이어야 함\n",
    "print(type(sentences))\n",
    "# <class 'pandas.core.frame.DataFrame'> 이 아니면 오류임"
   ]
  },
  {
   "cell_type": "code",
   "execution_count": 4,
   "id": "69a420d6",
   "metadata": {},
   "outputs": [
    {
     "name": "stdout",
     "output_type": "stream",
     "text": [
      "<class 'pandas.core.frame.DataFrame'>\n",
      "RangeIndex: 15905 entries, 0 to 15904\n",
      "Data columns (total 1 columns):\n",
      " #   Column    Non-Null Count  Dtype \n",
      "---  ------    --------------  ----- \n",
      " 0   Contents  15904 non-null  object\n",
      "dtypes: object(1)\n",
      "memory usage: 124.4+ KB\n"
     ]
    }
   ],
   "source": [
    "sentences.info()"
   ]
  },
  {
   "cell_type": "markdown",
   "id": "b4a980a6",
   "metadata": {},
   "source": [
    "라이브러리 추가 및 클래스 선언"
   ]
  },
  {
   "cell_type": "code",
   "execution_count": 5,
   "id": "9ba19559",
   "metadata": {},
   "outputs": [],
   "source": [
    "# konlpy 설치 명령어\n",
    "# !pip install konlpy"
   ]
  },
  {
   "cell_type": "code",
   "execution_count": 6,
   "id": "3c3141bc",
   "metadata": {},
   "outputs": [],
   "source": [
    "from konlpy.tag import Okt\n",
    "okt=Okt()"
   ]
  },
  {
   "cell_type": "markdown",
   "id": "637445fb",
   "metadata": {},
   "source": [
    "명사추출: nouns 명사추출. phrases 어절 추출"
   ]
  },
  {
   "cell_type": "code",
   "execution_count": 7,
   "id": "445d4c82",
   "metadata": {
    "scrolled": false
   },
   "outputs": [
    {
     "name": "stderr",
     "output_type": "stream",
     "text": [
      "C:\\Users\\Public\\Documents\\ESTsoft\\CreatorTemp\\ipykernel_22856\\2540441724.py:1: FutureWarning: The default value of regex will change from True to False in a future version.\n",
      "  sentences['Contents'] = sentences['Contents'].str.replace(\"[^ㄱ-ㅎㅏ-ㅣ가-힣 ]\",\"\")\n"
     ]
    }
   ],
   "source": [
    "sentences['Contents'] = sentences['Contents'].str.replace(\"[^ㄱ-ㅎㅏ-ㅣ가-힣 ]\",\"\")"
   ]
  },
  {
   "cell_type": "code",
   "execution_count": 8,
   "id": "d489d8d4",
   "metadata": {},
   "outputs": [
    {
     "name": "stdout",
     "output_type": "stream",
     "text": [
      "Contents    1\n",
      "dtype: int64\n"
     ]
    }
   ],
   "source": [
    "# Null 갯수 확인\n",
    "print(sentences.isnull().sum())"
   ]
  },
  {
   "cell_type": "code",
   "execution_count": 9,
   "id": "522decbf",
   "metadata": {},
   "outputs": [
    {
     "data": {
      "text/html": [
       "<div>\n",
       "<style scoped>\n",
       "    .dataframe tbody tr th:only-of-type {\n",
       "        vertical-align: middle;\n",
       "    }\n",
       "\n",
       "    .dataframe tbody tr th {\n",
       "        vertical-align: top;\n",
       "    }\n",
       "\n",
       "    .dataframe thead th {\n",
       "        text-align: right;\n",
       "    }\n",
       "</style>\n",
       "<table border=\"1\" class=\"dataframe\">\n",
       "  <thead>\n",
       "    <tr style=\"text-align: right;\">\n",
       "      <th></th>\n",
       "      <th>Contents</th>\n",
       "    </tr>\n",
       "  </thead>\n",
       "  <tbody>\n",
       "    <tr>\n",
       "      <th>13836</th>\n",
       "      <td>None</td>\n",
       "    </tr>\n",
       "  </tbody>\n",
       "</table>\n",
       "</div>"
      ],
      "text/plain": [
       "      Contents\n",
       "13836     None"
      ]
     },
     "execution_count": 9,
     "metadata": {},
     "output_type": "execute_result"
    }
   ],
   "source": [
    "sentences.loc[sentences.Contents.isnull()]   # Contents 는 sentences['Contents'] 여기 있는 이름임"
   ]
  },
  {
   "cell_type": "code",
   "execution_count": 10,
   "id": "90ccfb9d",
   "metadata": {},
   "outputs": [
    {
     "name": "stdout",
     "output_type": "stream",
     "text": [
      "False\n"
     ]
    }
   ],
   "source": [
    "# Null 값을 가진 샘플을 제거\n",
    "sentences = sentences.dropna(how = 'any') # Null 값이 존재하는 행 제거\n",
    "print(sentences.isnull().values.any()) # Null 값이 존재하는지 다시 확인. False가 나오면 정상임"
   ]
  },
  {
   "cell_type": "code",
   "execution_count": 11,
   "id": "177ac5e5",
   "metadata": {},
   "outputs": [
    {
     "data": {
      "text/html": [
       "<div>\n",
       "<style scoped>\n",
       "    .dataframe tbody tr th:only-of-type {\n",
       "        vertical-align: middle;\n",
       "    }\n",
       "\n",
       "    .dataframe tbody tr th {\n",
       "        vertical-align: top;\n",
       "    }\n",
       "\n",
       "    .dataframe thead th {\n",
       "        text-align: right;\n",
       "    }\n",
       "</style>\n",
       "<table border=\"1\" class=\"dataframe\">\n",
       "  <thead>\n",
       "    <tr style=\"text-align: right;\">\n",
       "      <th></th>\n",
       "      <th>Contents</th>\n",
       "    </tr>\n",
       "  </thead>\n",
       "  <tbody>\n",
       "    <tr>\n",
       "      <th>0</th>\n",
       "      <td>신도림 역에서 디큐브아트센터  롯데시네마 가는길 찍어봤어요 약간 복잡하다 느끼시는 ...</td>\n",
       "    </tr>\n",
       "    <tr>\n",
       "      <th>1</th>\n",
       "      <td>오늘은 저의  롯데시네마   선정 소식을 가져왔어요 ㅑ 저는 작년까지 약년간 ㄱㅖ...</td>\n",
       "    </tr>\n",
       "    <tr>\n",
       "      <th>2</th>\n",
       "      <td>천호 롯데시네마 맛집 잊을만 하면 생각나는 양꼬치 제가 자주 가는 천호 롯데시네마 ...</td>\n",
       "    </tr>\n",
       "    <tr>\n",
       "      <th>3</th>\n",
       "      <td>푸하핫 용인스팀세차용인실내세차두꺼비스팀세차역북롯데시네마용인스팀세차잘하는곳 태어날때부...</td>\n",
       "    </tr>\n",
       "    <tr>\n",
       "      <th>4</th>\n",
       "      <td>겨울왕국    자막  롯데시네마 월드타워 수퍼 관 관람기 회차 어제 진짜 오랜만에 ...</td>\n",
       "    </tr>\n",
       "    <tr>\n",
       "      <th>...</th>\n",
       "      <td>...</td>\n",
       "    </tr>\n",
       "    <tr>\n",
       "      <th>15900</th>\n",
       "      <td>칠곡안경칠곡렌즈칠곡아큐브동천동안경동천동렌즈동천동아큐브비비드대구안경대구안경싼곳칠곡블루...</td>\n",
       "    </tr>\n",
       "    <tr>\n",
       "      <th>15901</th>\n",
       "      <td>향남읍사무소 홈플러스향남점롯데시네마 향남버스터미널 화성중앙병원 등 주요시설 분이내 ...</td>\n",
       "    </tr>\n",
       "    <tr>\n",
       "      <th>15902</th>\n",
       "      <td>치과병원에서 년간 수련받았고 따라서 연세교정과 전문의회 정식회원으로 등록하였습니다 ...</td>\n",
       "    </tr>\n",
       "    <tr>\n",
       "      <th>15903</th>\n",
       "      <td>생활이 편리 아트몰링쇼핑몰롯데시네마중랑천 등 다양하고 쾌적한 인프라 수익을 바로 장...</td>\n",
       "    </tr>\n",
       "    <tr>\n",
       "      <th>15904</th>\n",
       "      <td>일대에 롯데시네마 병원 공원 하천 등 생활편의 시설이 위치해 편리한 생활 인프라를 ...</td>\n",
       "    </tr>\n",
       "  </tbody>\n",
       "</table>\n",
       "<p>15904 rows × 1 columns</p>\n",
       "</div>"
      ],
      "text/plain": [
       "                                                Contents\n",
       "0      신도림 역에서 디큐브아트센터  롯데시네마 가는길 찍어봤어요 약간 복잡하다 느끼시는 ...\n",
       "1       오늘은 저의  롯데시네마   선정 소식을 가져왔어요 ㅑ 저는 작년까지 약년간 ㄱㅖ...\n",
       "2      천호 롯데시네마 맛집 잊을만 하면 생각나는 양꼬치 제가 자주 가는 천호 롯데시네마 ...\n",
       "3      푸하핫 용인스팀세차용인실내세차두꺼비스팀세차역북롯데시네마용인스팀세차잘하는곳 태어날때부...\n",
       "4      겨울왕국    자막  롯데시네마 월드타워 수퍼 관 관람기 회차 어제 진짜 오랜만에 ...\n",
       "...                                                  ...\n",
       "15900  칠곡안경칠곡렌즈칠곡아큐브동천동안경동천동렌즈동천동아큐브비비드대구안경대구안경싼곳칠곡블루...\n",
       "15901  향남읍사무소 홈플러스향남점롯데시네마 향남버스터미널 화성중앙병원 등 주요시설 분이내 ...\n",
       "15902  치과병원에서 년간 수련받았고 따라서 연세교정과 전문의회 정식회원으로 등록하였습니다 ...\n",
       "15903  생활이 편리 아트몰링쇼핑몰롯데시네마중랑천 등 다양하고 쾌적한 인프라 수익을 바로 장...\n",
       "15904  일대에 롯데시네마 병원 공원 하천 등 생활편의 시설이 위치해 편리한 생활 인프라를 ...\n",
       "\n",
       "[15904 rows x 1 columns]"
      ]
     },
     "execution_count": 11,
     "metadata": {},
     "output_type": "execute_result"
    }
   ],
   "source": [
    "sentences"
   ]
  },
  {
   "cell_type": "code",
   "execution_count": 12,
   "id": "5040ea93",
   "metadata": {},
   "outputs": [],
   "source": [
    "tokenized_doc = sentences.apply(lambda row: okt.nouns(row['Contents']), axis=1)\n"
   ]
  },
  {
   "cell_type": "markdown",
   "id": "8378da49",
   "metadata": {},
   "source": [
    "단어 길이가 1이하인 단어들은 제거 (길이가 짧은 단어 ex. 은/는/이/가/을/를 등 제거)\n"
   ]
  },
  {
   "cell_type": "code",
   "execution_count": 13,
   "id": "40ea2069",
   "metadata": {},
   "outputs": [],
   "source": [
    "tokenized_doc = tokenized_doc.apply(lambda x: [word for word in x if len(word) > 1])\n"
   ]
  },
  {
   "cell_type": "markdown",
   "id": "2dde6949",
   "metadata": {},
   "source": [
    "분석에서 제거할 불필요한 단어들 기재"
   ]
  },
  {
   "cell_type": "code",
   "execution_count": 14,
   "id": "3aff77b5",
   "metadata": {},
   "outputs": [],
   "source": [
    "from nltk.corpus import stopwords\n",
    "\n",
    "stop = ['연합뉴스','무단']\n",
    "tokenized_doc = tokenized_doc.apply(lambda x: [word for word in x if word not in (stop)])\n"
   ]
  },
  {
   "cell_type": "code",
   "execution_count": 15,
   "id": "c19e594b",
   "metadata": {},
   "outputs": [
    {
     "name": "stdout",
     "output_type": "stream",
     "text": [
      "0        [신도림, 큐브, 아트, 센터, 롯데, 시네마, 약간, 신도림역, 출구, 왼쪽, 보...\n",
      "1        [오늘, 롯데, 시네마, 선정, 소식, 작년, 소듕, 선정, 뚠뚠, 롯데, 시네마,...\n",
      "2        [롯데, 시네마, 맛집, 꼬치, 자주, 롯데, 시네마, 맛집, 거리, 꼬치, 영화관...\n",
      "3        [용인, 스팀, 차용, 실내, 세차, 두꺼비, 스팀, 세차, 역북, 롯데, 시네마,...\n",
      "4        [겨울왕국, 자막, 롯데, 시네마, 월드, 타워, 수퍼, 관람, 회차, 어제, 진짜...\n",
      "                               ...                        \n",
      "15900    [칠곡, 안경, 칠곡, 렌즈, 칠곡, 큐브, 동천동, 안경, 동천동, 렌즈, 동천동...\n",
      "15901    [향남읍, 사무소, 홈플러스, 향남, 롯데, 시네마, 향남, 버스, 터미널, 화성,...\n",
      "15902    [치과, 병원, 수련, 따라서, 교정, 전문, 의회, 정식, 회원, 등록, 또한, ...\n",
      "15903    [생활, 편리, 아트, 몰링, 쇼핑몰, 롯데, 시네마, 중랑천, 인프라, 수익, 바...\n",
      "15904    [일대, 롯데, 시네마, 병원, 공원, 하천, 생활, 편의, 시설, 위치, 생활, ...\n",
      "Length: 15904, dtype: object\n"
     ]
    }
   ],
   "source": [
    "# 저장된 단어들 확인하기 \n",
    "print(tokenized_doc)"
   ]
  },
  {
   "cell_type": "markdown",
   "id": "df180a95",
   "metadata": {},
   "source": [
    "TF-IDF(Term Frequency - Inverse Document Frequency)는 정보 검색과 텍스트 마이닝에서 이용하는 가중치로, \n",
    "여러 문서로 이루어진 문서군이 있을 때 어떤 단어가 특정 문서 내에서 얼마나 중요한 것인지를 나타내는 통계적 수치\n",
    "\n",
    "https://wikidocs.net/31698 참고"
   ]
  },
  {
   "cell_type": "markdown",
   "id": "bd572eb4",
   "metadata": {},
   "source": [
    "TF-IDF의 TfidfVectorizer는 기본적으로 토큰화가 되어있지 않은 텍스트 데이터를 입력으로 사용함.\n",
    "이를 사용하기 위해 다시 토큰화 작업을 역으로 취소하는 역토큰화(Detokenization)작업을 수행"
   ]
  },
  {
   "cell_type": "markdown",
   "id": "0b649fb2",
   "metadata": {},
   "source": [
    "# 사이킷런의 잠재 디리클레 할당(LDA) 실습"
   ]
  },
  {
   "cell_type": "markdown",
   "id": "1589e6bc",
   "metadata": {},
   "source": [
    "https://wikidocs.net/40710"
   ]
  },
  {
   "cell_type": "code",
   "execution_count": 17,
   "id": "89a5ae05",
   "metadata": {},
   "outputs": [
    {
     "ename": "KeyError",
     "evalue": "13836",
     "output_type": "error",
     "traceback": [
      "\u001b[1;31m---------------------------------------------------------------------------\u001b[0m",
      "\u001b[1;31mKeyError\u001b[0m                                  Traceback (most recent call last)",
      "File \u001b[1;32m~\\anaconda3\\lib\\site-packages\\pandas\\core\\indexes\\base.py:3621\u001b[0m, in \u001b[0;36mIndex.get_loc\u001b[1;34m(self, key, method, tolerance)\u001b[0m\n\u001b[0;32m   3620\u001b[0m \u001b[38;5;28;01mtry\u001b[39;00m:\n\u001b[1;32m-> 3621\u001b[0m     \u001b[38;5;28;01mreturn\u001b[39;00m \u001b[38;5;28;43mself\u001b[39;49m\u001b[38;5;241;43m.\u001b[39;49m\u001b[43m_engine\u001b[49m\u001b[38;5;241;43m.\u001b[39;49m\u001b[43mget_loc\u001b[49m\u001b[43m(\u001b[49m\u001b[43mcasted_key\u001b[49m\u001b[43m)\u001b[49m\n\u001b[0;32m   3622\u001b[0m \u001b[38;5;28;01mexcept\u001b[39;00m \u001b[38;5;167;01mKeyError\u001b[39;00m \u001b[38;5;28;01mas\u001b[39;00m err:\n",
      "File \u001b[1;32m~\\anaconda3\\lib\\site-packages\\pandas\\_libs\\index.pyx:136\u001b[0m, in \u001b[0;36mpandas._libs.index.IndexEngine.get_loc\u001b[1;34m()\u001b[0m\n",
      "File \u001b[1;32m~\\anaconda3\\lib\\site-packages\\pandas\\_libs\\index.pyx:163\u001b[0m, in \u001b[0;36mpandas._libs.index.IndexEngine.get_loc\u001b[1;34m()\u001b[0m\n",
      "File \u001b[1;32mpandas\\_libs\\hashtable_class_helper.pxi:2131\u001b[0m, in \u001b[0;36mpandas._libs.hashtable.Int64HashTable.get_item\u001b[1;34m()\u001b[0m\n",
      "File \u001b[1;32mpandas\\_libs\\hashtable_class_helper.pxi:2140\u001b[0m, in \u001b[0;36mpandas._libs.hashtable.Int64HashTable.get_item\u001b[1;34m()\u001b[0m\n",
      "\u001b[1;31mKeyError\u001b[0m: 13836",
      "\nThe above exception was the direct cause of the following exception:\n",
      "\u001b[1;31mKeyError\u001b[0m                                  Traceback (most recent call last)",
      "Input \u001b[1;32mIn [17]\u001b[0m, in \u001b[0;36m<cell line: 4>\u001b[1;34m()\u001b[0m\n\u001b[0;32m      2\u001b[0m detokenized_doc \u001b[38;5;241m=\u001b[39m []\n\u001b[0;32m      4\u001b[0m \u001b[38;5;28;01mfor\u001b[39;00m i \u001b[38;5;129;01min\u001b[39;00m \u001b[38;5;28mrange\u001b[39m(\u001b[38;5;28mlen\u001b[39m(sentences)):\n\u001b[1;32m----> 5\u001b[0m     t \u001b[38;5;241m=\u001b[39m \u001b[38;5;124m'\u001b[39m\u001b[38;5;124m \u001b[39m\u001b[38;5;124m'\u001b[39m\u001b[38;5;241m.\u001b[39mjoin(\u001b[43mtokenized_doc\u001b[49m\u001b[43m[\u001b[49m\u001b[43mi\u001b[49m\u001b[43m]\u001b[49m)\n\u001b[0;32m      6\u001b[0m     detokenized_doc\u001b[38;5;241m.\u001b[39mappend(t)\n\u001b[0;32m      8\u001b[0m sentences[\u001b[38;5;124m'\u001b[39m\u001b[38;5;124mContents\u001b[39m\u001b[38;5;124m'\u001b[39m] \u001b[38;5;241m=\u001b[39m detokenized_doc\n",
      "File \u001b[1;32m~\\anaconda3\\lib\\site-packages\\pandas\\core\\series.py:958\u001b[0m, in \u001b[0;36mSeries.__getitem__\u001b[1;34m(self, key)\u001b[0m\n\u001b[0;32m    955\u001b[0m     \u001b[38;5;28;01mreturn\u001b[39;00m \u001b[38;5;28mself\u001b[39m\u001b[38;5;241m.\u001b[39m_values[key]\n\u001b[0;32m    957\u001b[0m \u001b[38;5;28;01melif\u001b[39;00m key_is_scalar:\n\u001b[1;32m--> 958\u001b[0m     \u001b[38;5;28;01mreturn\u001b[39;00m \u001b[38;5;28;43mself\u001b[39;49m\u001b[38;5;241;43m.\u001b[39;49m\u001b[43m_get_value\u001b[49m\u001b[43m(\u001b[49m\u001b[43mkey\u001b[49m\u001b[43m)\u001b[49m\n\u001b[0;32m    960\u001b[0m \u001b[38;5;28;01mif\u001b[39;00m is_hashable(key):\n\u001b[0;32m    961\u001b[0m     \u001b[38;5;66;03m# Otherwise index.get_value will raise InvalidIndexError\u001b[39;00m\n\u001b[0;32m    962\u001b[0m     \u001b[38;5;28;01mtry\u001b[39;00m:\n\u001b[0;32m    963\u001b[0m         \u001b[38;5;66;03m# For labels that don't resolve as scalars like tuples and frozensets\u001b[39;00m\n",
      "File \u001b[1;32m~\\anaconda3\\lib\\site-packages\\pandas\\core\\series.py:1069\u001b[0m, in \u001b[0;36mSeries._get_value\u001b[1;34m(self, label, takeable)\u001b[0m\n\u001b[0;32m   1066\u001b[0m     \u001b[38;5;28;01mreturn\u001b[39;00m \u001b[38;5;28mself\u001b[39m\u001b[38;5;241m.\u001b[39m_values[label]\n\u001b[0;32m   1068\u001b[0m \u001b[38;5;66;03m# Similar to Index.get_value, but we do not fall back to positional\u001b[39;00m\n\u001b[1;32m-> 1069\u001b[0m loc \u001b[38;5;241m=\u001b[39m \u001b[38;5;28;43mself\u001b[39;49m\u001b[38;5;241;43m.\u001b[39;49m\u001b[43mindex\u001b[49m\u001b[38;5;241;43m.\u001b[39;49m\u001b[43mget_loc\u001b[49m\u001b[43m(\u001b[49m\u001b[43mlabel\u001b[49m\u001b[43m)\u001b[49m\n\u001b[0;32m   1070\u001b[0m \u001b[38;5;28;01mreturn\u001b[39;00m \u001b[38;5;28mself\u001b[39m\u001b[38;5;241m.\u001b[39mindex\u001b[38;5;241m.\u001b[39m_get_values_for_loc(\u001b[38;5;28mself\u001b[39m, loc, label)\n",
      "File \u001b[1;32m~\\anaconda3\\lib\\site-packages\\pandas\\core\\indexes\\base.py:3623\u001b[0m, in \u001b[0;36mIndex.get_loc\u001b[1;34m(self, key, method, tolerance)\u001b[0m\n\u001b[0;32m   3621\u001b[0m     \u001b[38;5;28;01mreturn\u001b[39;00m \u001b[38;5;28mself\u001b[39m\u001b[38;5;241m.\u001b[39m_engine\u001b[38;5;241m.\u001b[39mget_loc(casted_key)\n\u001b[0;32m   3622\u001b[0m \u001b[38;5;28;01mexcept\u001b[39;00m \u001b[38;5;167;01mKeyError\u001b[39;00m \u001b[38;5;28;01mas\u001b[39;00m err:\n\u001b[1;32m-> 3623\u001b[0m     \u001b[38;5;28;01mraise\u001b[39;00m \u001b[38;5;167;01mKeyError\u001b[39;00m(key) \u001b[38;5;28;01mfrom\u001b[39;00m \u001b[38;5;21;01merr\u001b[39;00m\n\u001b[0;32m   3624\u001b[0m \u001b[38;5;28;01mexcept\u001b[39;00m \u001b[38;5;167;01mTypeError\u001b[39;00m:\n\u001b[0;32m   3625\u001b[0m     \u001b[38;5;66;03m# If we have a listlike key, _check_indexing_error will raise\u001b[39;00m\n\u001b[0;32m   3626\u001b[0m     \u001b[38;5;66;03m#  InvalidIndexError. Otherwise we fall through and re-raise\u001b[39;00m\n\u001b[0;32m   3627\u001b[0m     \u001b[38;5;66;03m#  the TypeError.\u001b[39;00m\n\u001b[0;32m   3628\u001b[0m     \u001b[38;5;28mself\u001b[39m\u001b[38;5;241m.\u001b[39m_check_indexing_error(key)\n",
      "\u001b[1;31mKeyError\u001b[0m: 13836"
     ]
    }
   ],
   "source": [
    "# 역토큰화 (토큰화 작업을 되돌림)\n",
    "detokenized_doc = []\n",
    "\n",
    "for i in range(len(sentences)):\n",
    "    t = ' '.join(tokenized_doc[i])\n",
    "    detokenized_doc.append(t)\n",
    "\n",
    "sentences['Contents'] = detokenized_doc\n",
    "\n",
    "print(sentences['Contents'][:5])"
   ]
  },
  {
   "cell_type": "code",
   "execution_count": null,
   "id": "73d0c389",
   "metadata": {},
   "outputs": [],
   "source": [
    "from sklearn.feature_extraction.text import TfidfVectorizer\n",
    "# TfidfVectorizer 객체 생성\n",
    "vectorizer = TfidfVectorizer(max_features= 1000)    # 상위 1,000개의 단어를 보존 \n",
    "\n",
    "# TfidfVectorizer 할 X_train 데이터\n",
    "X = vectorizer.fit_transform(sentences['Contents'])\n",
    "\n",
    "from sklearn.decomposition import LatentDirichletAllocation\n",
    "\n",
    "# LDA 모델훈련\n",
    "lda_model=LatentDirichletAllocation(n_components=10,learning_method='online',random_state=777,max_iter=1)\n",
    "lda_model.fit_transform(X)\n",
    "\n",
    "# vocabulary를 활용하여 각 문장이 갖고 있는 토큰의 count를 기반으로 문장을 vectorization 처리\n",
    "terms = vectorizer.get_feature_names() \n",
    "\n",
    "def get_topics(components, feature_names, n=10):\n",
    "    for idx, topic in enumerate(components):\n",
    "        print(\"Topic %d:\" % (idx+1), [(feature_names[i], topic[i].round(2)) for i in topic.argsort()[:-n - 1:-1]])\n",
    "\n",
    "#  토픽별 단어 분포\n",
    "get_topics(lda_model.components_,terms)\n",
    "\n"
   ]
  },
  {
   "cell_type": "markdown",
   "id": "90ba59b0",
   "metadata": {},
   "source": []
  },
  {
   "cell_type": "markdown",
   "id": "0750a11e",
   "metadata": {},
   "source": [
    "# gensim을 통해서 LDA를 수행하고, 시각화"
   ]
  },
  {
   "cell_type": "markdown",
   "id": "384bff21",
   "metadata": {},
   "source": [
    "https://wikidocs.net/30708"
   ]
  },
  {
   "cell_type": "code",
   "execution_count": 18,
   "id": "5b037308",
   "metadata": {},
   "outputs": [],
   "source": [
    "from gensim import corpora\n",
    "\n",
    "dictionary = corpora.Dictionary(tokenized_doc)\n",
    "corpus = [dictionary.doc2bow(text) for text in tokenized_doc]"
   ]
  },
  {
   "cell_type": "code",
   "execution_count": 19,
   "id": "84a49de1",
   "metadata": {},
   "outputs": [
    {
     "name": "stdout",
     "output_type": "stream",
     "text": [
      "(0, '0.066*\"롯데\" + 0.062*\"시네마\" + 0.016*\"위치\" + 0.016*\"건물\"')\n",
      "(1, '0.021*\"향남\" + 0.012*\"아산\" + 0.011*\"롯데\" + 0.010*\"운동\"')\n",
      "(2, '0.035*\"시네마\" + 0.032*\"롯데\" + 0.024*\"카페\" + 0.023*\"맛집\"')\n",
      "(3, '0.056*\"롯데\" + 0.036*\"시네마\" + 0.018*\"시설\" + 0.012*\"생활\"')\n",
      "(4, '0.073*\"롯데\" + 0.067*\"시네마\" + 0.058*\"영화\" + 0.019*\"월드\"')\n",
      "(5, '0.058*\"롯데\" + 0.050*\"시네마\" + 0.039*\"할인\" + 0.031*\"영화\"')\n"
     ]
    }
   ],
   "source": [
    "import gensim\n",
    "\n",
    "NUM_TOPICS = 6 # n개의 토픽, k=n\n",
    "\n",
    "# passes는 알고리즘의 동작 횟수\n",
    "# 알고리즘이 결정하는 토픽의 값이 적절히 수렴할 수 있도록 충분히 적당한 횟수를 설정함\n",
    "ldamodel = gensim.models.ldamodel.LdaModel(corpus, num_topics = NUM_TOPICS, id2word=dictionary, passes=15)\n",
    "topics = ldamodel.print_topics(num_words=4)   # TOPIC별 단어를 4개만 보여주기, 숫자를 늘리면 더 많은 단어들이 보여짐\n",
    "for topic in topics:\n",
    "    print(topic)\n"
   ]
  },
  {
   "cell_type": "markdown",
   "id": "43b71e20",
   "metadata": {},
   "source": [
    "각 단어 앞에 붙은 수치는 단어의 해당 토픽에 대한 기여도를 보여줌\n",
    "또한 맨 앞에 있는 토픽 번호는 0부터 시작하므로 총 N개의 토픽은 0부터 N-1까지의 번호가 할당되어져 있음\n",
    "\n",
    "위의 출력 결과에서 (숫자, 확률)은 각각 토픽 번호와 해당 토픽이 해당 문서에서 차지하는 분포도를 의미함\n",
    "예를 들어 0번째 문서의 토픽 비율에서 (0, '0.023*\"경제...\"'')은 0번 토픽에서 경제가 2.3%의 분포도를 가지는 것을 의미함"
   ]
  },
  {
   "cell_type": "code",
   "execution_count": 20,
   "id": "fdd9fd88",
   "metadata": {},
   "outputs": [],
   "source": [
    "# !pip install pyLDAvis"
   ]
  },
  {
   "cell_type": "code",
   "execution_count": 21,
   "id": "fb43db2d",
   "metadata": {},
   "outputs": [
    {
     "name": "stderr",
     "output_type": "stream",
     "text": [
      "C:\\Users\\Eddie\\anaconda3\\lib\\site-packages\\pyLDAvis\\_prepare.py:246: FutureWarning: In a future version of pandas all arguments of DataFrame.drop except for the argument 'labels' will be keyword-only.\n",
      "  default_term_info = default_term_info.sort_values(\n"
     ]
    },
    {
     "data": {
      "text/html": [
       "\n",
       "<link rel=\"stylesheet\" type=\"text/css\" href=\"https://cdn.jsdelivr.net/gh/bmabey/pyLDAvis@3.3.1/pyLDAvis/js/ldavis.v1.0.0.css\">\n",
       "\n",
       "\n",
       "<div id=\"ldavis_el2285615287728350244031334389\"></div>\n",
       "<script type=\"text/javascript\">\n",
       "\n",
       "var ldavis_el2285615287728350244031334389_data = {\"mdsDat\": {\"x\": [-0.04843549852832889, -0.07571572221307558, 0.20437952092818107, 0.2051477001532491, -0.25729662930047575, -0.02807937103955003], \"y\": [0.11342391898738266, 0.02789811398884655, 0.0680382161698038, 0.04416140706417746, 0.09806367998609257, -0.3515853361963034], \"topics\": [1, 2, 3, 4, 5, 6], \"cluster\": [1, 1, 1, 1, 1, 1], \"Freq\": [37.17088330708629, 21.258611871943927, 14.355132362045007, 12.237627268492519, 9.07775972831313, 5.899985462119125]}, \"tinfo\": {\"Term\": [\"\\uc601\\ud654\", \"\\ud560\\uc778\", \"\\ub9db\\uc9d1\", \"\\uac74\\ubb3c\", \"\\uc2dc\\uc124\", \"\\uce74\\ud398\", \"\\uc2dc\\ub124\\ub9c8\", \"\\uc6d4\\ub4dc\", \"\\ub86f\\ub370\", \"\\uac1c\\ubd09\", \"\\uba54\\uac00\\ubc15\\uc2a4\", \"\\uc0c1\\uc601\", \"\\uc2dc\\uac04\", \"\\uad00\\ub78c\", \"\\uc6d0\\uc8fc\", \"\\ud0c0\\uc6cc\", \"\\uc0dd\\ud65c\", \"\\uc704\\uce58\", \"\\ub300\\uad6c\", \"\\uacf5\\uc6d0\", \"\\uaf43\\uc9d1\", \"\\ud5a5\\ub0a8\", \"\\ubcd1\\uc6d0\", \"\\ub124\\uc77c\", \"\\uc608\\ub9e4\", \"\\ub2e8\\uc9c0\", \"\\uc601\\uc5c5\", \"\\ucc9c\\uc6d0\", \"\\uc774\\ub9c8\\ud2b8\", \"\\ub9c8\\ud2b8\", \"\\uba54\\ub274\", \"\\uce60\\uace1\", \"\\uac00\\uac8c\", \"\\uc9c4\\uc9dc\", \"\\uc2dd\\ub2f9\", \"\\ub3c4\\uace1\", \"\\ud3c9\\uc77c\", \"\\ud14c\\uc774\\ube14\", \"\\uc704\\ub840\", \"\\uac04\\ud310\", \"\\uba54\\ub274\\ud310\", \"\\ub3c8\\uae4c\\uc2a4\", \"\\uc810\\uc2ec\", \"\\uc2dd\\uc0ac\", \"\\ud0c0\\uace0\", \"\\uc624\\uc0b0\", \"\\uc6d0\\ub798\", \"\\uac08\\ube44\", \"\\uc190\\ub2d8\", \"\\ud30c\\uc2a4\\ud0c0\", \"\\ud074\\ub77c\\uc774\\ub108\", \"\\ub5a1\\ubcf6\\uc774\", \"\\uc5c4\\ub9c8\", \"\\uc608\\uc804\", \"\\uac00\\uba74\", \"\\uc2a4\\uc2dc\", \"\\ucd08\\ubc25\", \"\\uacf1\\ucc3d\", \"\\ud56d\\uc0c1\", \"\\uc644\\uc804\", \"\\ucc3e\\uae30\", \"\\uc0ac\\ub78c\", \"\\ubc29\\ubb38\", \"\\uc800\\ub141\", \"\\uc2e0\\ud765\\uc5ed\", \"\\ub290\\ub08c\", \"\\ucd9c\\uad6c\", \"\\uac00\\uaca9\", \"\\uc0dd\\uac01\", \"\\ub9e4\\uc77c\", \"\\uc8fc\\ucc28\\uc7a5\", \"\\uac74\\ubb3c\", \"\\uc694\\uc998\", \"\\uc0ac\\uc9c4\", \"\\uce5c\\uad6c\", \"\\uc2dc\\uac04\", \"\\uc8fc\\ucc28\", \"\\ubc14\\ub85c\", \"\\ucc98\\uc74c\", \"\\ucf54\\ub85c\\ub098\", \"\\uc624\\ub298\", \"\\uc704\\uce58\", \"\\uc624\\ud508\", \"\\ub9e4\\uc7a5\", \"\\uc2dc\\ub124\\ub9c8\", \"\\ub9db\\uc9d1\", \"\\ub86f\\ub370\", \"\\uadfc\\ucc98\", \"\\uc815\\ub9d0\", \"\\ub0b4\\ubd80\", \"\\uc5ec\\uae30\", \"\\uc601\\ud654\\uad00\", \"\\ub54c\\ubb38\", \"\\ubcf4\\uace0\", \"\\uc785\\uad6c\", \"\\uc601\\ud654\", \"\\uc2dc\\uc124\", \"\\uc0dd\\ud65c\", \"\\uacf5\\uc6d0\", \"\\ubcd1\\uc6d0\", \"\\ub2e8\\uc9c0\", \"\\uc774\\ub9c8\\ud2b8\", \"\\ud3b8\\uc758\", \"\\ud648\\ud50c\\ub7ec\\uc2a4\", \"\\uc778\\uadfc\", \"\\uc778\\ud504\\ub77c\", \"\\uc785\\uc810\", \"\\uc0c1\\uad8c\", \"\\ubd84\\uc591\", \"\\uc778\\uc811\", \"\\ud658\\uacbd\", \"\\ucd08\\ub4f1\\ud559\\uad50\", \"\\uc138\\ub300\", \"\\uc624\\ud53c\\uc2a4\\ud154\", \"\\uc784\\ub300\", \"\\uac01\\uc885\", \"\\uad50\\uc721\", \"\\ub2f9\\uc9c4\", \"\\uc740\\ud589\", \"\\uc785\\uc9c0\", \"\\ucc28\\ub7c9\", \"\\uc8fc\\ubbfc\", \"\\uad11\\uad50\", \"\\ub3c4\\uc11c\\uad00\", \"\\uc8fc\\uac70\", \"\\ubcf5\\ud569\", \"\\uc13c\\ud130\", \"\\ub9c8\\ud2b8\", \"\\ub3c4\\ubcf4\", \"\\uc544\\ud30c\\ud2b8\", \"\\uad50\\ud1b5\", \"\\ub300\\ud615\", \"\\uc544\\uc6b8\\ub81b\", \"\\uc8fc\\ubcc0\", \"\\uc2dc\\uc7a5\", \"\\uc0c1\\uac00\", \"\\ubc31\\ud654\\uc810\", \"\\uc9c0\\uc5ed\", \"\\ubb38\\ud654\", \"\\uc608\\uc815\", \"\\uac70\\ub9ac\", \"\\ub86f\\ub370\", \"\\uc1fc\\ud551\", \"\\uc2dc\\ub124\\ub9c8\", \"\\uc774\\uc6a9\", \"\\uc704\\uce58\", \"\\uac1c\\ubd09\", \"\\uc0c1\\uc601\", \"\\uc2dc\\uc0ac\\ud68c\", \"\\ubb34\\ube44\", \"\\ud2b8\\ub86f\", \"\\uac10\\ub3c5\", \"\\uc784\\uc601\\uc6c5\", \"\\ud3ec\\uc2a4\\ud130\", \"\\ubc18\\ub3c4\", \"\\ubc30\\uc6b0\", \"\\ud544\\ub77c\\ud14c\\uc2a4\", \"\\ub2e8\\ub3c5\", \"\\ubb34\\ub300\", \"\\uc778\\uc0ac\", \"\\uac15\\ucca0\", \"\\uad00\\uac1d\", \"\\ub2f9\\ucca8\", \"\\ucd9c\\uc5f0\", \"\\uc2a4\\ud06c\\ub9b0\", \"\\ub3c4\\uad74\", \"\\uc791\\ud488\", \"\\uc81c\\uc791\", \"\\uad6c\\ubbf8\", \"\\uad11\\ubcf5\", \"\\uac10\\uc0c1\", \"\\ud50c\\ub809\\uc2a4\", \"\\uc218\\ud37c\", \"\\ucf54\\uc5d1\\uc2a4\", \"\\ucd94\\uc11d\", \"\\uc8fc\\uc5f0\", \"\\uc77c\\uc815\", \"\\uc6d4\\ub4dc\", \"\\uac74\\ub300\", \"\\uc99d\\uc815\", \"\\uad11\\uace0\", \"\\ubbf8\\uc2a4\\ud130\", \"\\ud0c0\\uc6cc\", \"\\uad00\\ub78c\", \"\\uc601\\ud654\", \"\\uc774\\ubca4\\ud2b8\", \"\\uc9c4\\ud589\", \"\\uc608\\ub9e4\", \"\\uc2dc\\ub124\\ub9c8\", \"\\ub86f\\ub370\", \"\\uadf9\\uc7a5\", \"\\uba54\\uac00\\ubc15\\uc2a4\", \"\\uc785\\uad6c\", \"\\ubcf4\\uace0\", \"\\ud2f0\\ucf13\", \"\\ud560\\uc778\", \"\\ucc9c\\uc6d0\", \"\\ucfe0\\ud3f0\", \"\\uce74\\ub4dc\", \"\\uacb0\\uc81c\", \"\\ud61c\\ud0dd\", \"\\uc81c\\uacf5\", \"\\uc775\\uc0b0\", \"\\uce90\\uc2dc\", \"\\ucf64\\ubcf4\", \"\\uadf8\\ub8f9\", \"\\uc601\\uc5b4\", \"\\ud1a0\\uc775\", \"\\uc0bc\\uc9c4\", \"\\uae08\\uc561\", \"\\ucfe0\\uc6b0\", \"\\uc801\\ub9bd\", \"\\uc5b4\\ud50c\", \"\\ud398\\uc774\", \"\\uad70\\uc0b0\", \"\\ud55c\\ub3c4\", \"\\uba64\\ubc84\\uc2ed\", \"\\uc2e0\\ub9bc\", \"\\uc62c\\ub9ac\\ube0c\\uc601\", \"\\ub2e4\\uc6b4\", \"\\uccad\\uad6c\", \"\\ud1b5\\ud569\", \"\\uc544\\uc2dc\\uc544\\ub4dc\", \"\\uc0ac\\uc774\\ud2b8\", \"\\uc601\\ud48d\\ubb38\\uace0\", \"\\ud3ec\\uc778\\ud2b8\", \"\\ucd9c\\ucc98\", \"\\ub9cc\\uc6d0\", \"\\uc628\\ub77c\\uc778\", \"\\uc774\\uc0c1\", \"\\uc801\\uc6a9\", \"\\uc0ac\\uc6a9\", \"\\uba54\\uac00\\ubc15\\uc2a4\", \"\\uad6c\\ub9e4\", \"\\ud2f0\\ucf13\", \"\\ud648\\ud398\\uc774\\uc9c0\", \"\\uc601\\ud654\", \"\\uc608\\ub9e4\", \"\\ub86f\\ub370\", \"\\ubb34\\ub8cc\", \"\\uc2dc\\ub124\\ub9c8\", \"\\uc601\\ud654\\uad00\", \"\\uad00\\ub78c\", \"\\uc774\\ubca4\\ud2b8\", \"\\uc774\\uc6a9\", \"\\uc544\\ud2b8\", \"\\uadf9\\uc7a5\", \"\\uc6d0\\uc8fc\", \"\\uaf43\\uc9d1\", \"\\ub124\\uc77c\", \"\\ubb34\\uc2e4\\ub3d9\", \"\\uc131\\uc11c\", \"\\ub3d9\\uc131\\ub85c\", \"\\ud734\\ubb34\", \"\\uc548\\uc0b0\", \"\\ud638\\uc810\", \"\\ucda9\\uc7a5\\ub85c\", \"\\ub2e8\\uad6c\\ub3d9\", \"\\uc18d\\ub208\\uc379\", \"\\uc810\\uc2ec\\uc2dc\\uac04\", \"\\ub3d9\\uad6c\", \"\\uad11\\uc5ed\\uc2dc\", \"\\uc911\\uad6c\", \"\\uc2dc\\uc220\", \"\\uace0\\uc794\\ub3d9\", \"\\uacc4\\ub300\", \"\\ub77c\\uba58\", \"\\ub208\\uc379\", \"\\ub514\\uc800\\ud2b8\", \"\\ub137\\ud50c\\ub9ad\\uc2a4\", \"\\uad00\\uc800\", \"\\uace8\\ud504\", \"\\uae08\\uace1\\ub3d9\", \"\\uad00\\uc800\\ub3d9\", \"\\uc9c4\\ud574\", \"\\ub538\\uae30\", \"\\uc641\\uc2f1\", \"\\ud0b4\\uc2a4\", \"\\ubb38\\uc758\", \"\\uce74\\ud398\", \"\\ubbf8\\uc6a9\\uc2e4\", \"\\uad11\\uc8fc\", \"\\ub9e4\\uc2e4\", \"\\ub300\\uad6c\", \"\\uc77c\\uc694\\uc77c\", \"\\uc608\\uc57d\", \"\\ub9db\\uc9d1\", \"\\uc0c1\\ub2f4\", \"\\uc601\\uc5c5\", \"\\ub9de\\uc740\\ud3b8\", \"\\uac74\\ubb3c\", \"\\uc2dc\\ub124\\ub9c8\", \"\\ub86f\\ub370\", \"\\uc2dc\\uac04\", \"\\uc218\\uc6d0\", \"\\uc704\\uce58\", \"\\uc8fc\\ucc28\", \"\\uc911\\uc559\", \"\\ud5a5\\ub0a8\", \"\\uc544\\uc0b0\", \"\\uc6b4\\ub3d9\", \"\\uc0b0\\uc5c5\", \"\\ub4f1\\uc2ec\", \"\\ub3c4\\ucfc4\", \"\\uc548\\uc591\", \"\\uc6d0\\ub8f8\", \"\\uc8fc\\uc9d3\\uc218\", \"\\uc601\\ud654\\uc81c\", \"\\ub2e4\\uc218\", \"\\uc6d4\\uc138\", \"\\uc548\\uc8fc\", \"\\uc81c\\uc774\", \"\\uc2dc\\ud765\", \"\\uc790\\ub140\", \"\\uc9c0\\uc2dd\", \"\\ud544\\ub4dc\", \"\\uc591\\uc77c\", \"\\ubc38\\ub9ac\", \"\\ub3c5\\uc0b0\", \"\\uacf5\\uac1c\", \"\\ud0b9\\ub364\", \"\\uc911\\uc559\\uc2dc\\uc7a5\", \"\\uacfc\\uc790\", \"\\uacf5\\ud56d\", \"\\ub4dc\\ub77c\\ub9c8\", \"\\ub179\\uc9c0\", \"\\ub3d9\\ubc18\", \"\\ubc30\\uae09\", \"\\ub2f4\\ubcf4\", \"\\uc911\\uace0\", \"\\ubc88\\uac00\", \"\\uba40\\ud2f0\\ud50c\\ub809\\uc2a4\", \"\\ud558\\ub298\", \"\\ud0a4\\uc988\", \"\\uad6d\\uc81c\", \"\\uc9c0\\uad6c\", \"\\ub86f\\ub370\", \"\\uc2dc\\ub124\\ub9c8\", \"\\uc601\\ud654\\uad00\", \"\\uadf9\\uc7a5\"], \"Freq\": [6319.0, 2041.0, 2667.0, 3190.0, 1658.0, 1411.0, 21239.0, 1293.0, 24380.0, 1142.0, 1743.0, 1042.0, 2305.0, 1363.0, 757.0, 1448.0, 1125.0, 3833.0, 965.0, 1030.0, 642.0, 528.0, 952.0, 601.0, 1037.0, 889.0, 878.0, 648.0, 881.0, 990.0, 587.7722512721846, 568.9086245193402, 491.5347791080119, 449.35884928302505, 402.2255859788751, 400.5427742594103, 364.5753027477018, 305.6002342839709, 302.56174368796957, 272.4759646960843, 270.9611148155244, 260.3703243752166, 249.9813927926574, 240.71388911288236, 240.26106017788035, 243.7273652872898, 222.16381437246028, 219.66218868833434, 203.16625126687026, 203.13582286554768, 202.54166153091649, 191.6485874970115, 188.399080158907, 185.39771661711288, 182.02697283803312, 177.59758496854826, 176.57331506130188, 173.77513175535955, 173.20058921506723, 155.18618647573285, 271.97283163078964, 837.1312015683061, 970.4183172058201, 437.2911802301528, 399.3881467317814, 321.5796046294237, 469.8057806431684, 497.9462157799318, 621.7861386680994, 426.98828504409556, 987.0570368723322, 2554.5747729219693, 502.02927411904363, 654.1801633291914, 468.63683818608735, 1804.5802353562838, 1441.0791028917004, 1428.6599105584105, 426.9665557152862, 914.58201725415, 892.1691689159157, 2592.0957446237585, 565.1515428173161, 545.0279820430014, 9696.088116157976, 1778.9501983860541, 10406.942553385996, 855.2100031377013, 530.5767304165622, 509.25288116016105, 470.9280344072672, 1044.4711356892044, 549.9149888431126, 623.7055137729973, 583.9455769900549, 1130.3610060414924, 1657.5484441042129, 1124.6844898093682, 1029.5734050754822, 951.9066172212575, 888.9265992932308, 881.0174342871222, 816.8197885164593, 631.9410412536383, 617.856997529388, 582.1572676442905, 509.2955796655814, 441.0106391095881, 400.87052671567324, 376.2784915781984, 314.2077480106258, 290.5472179053752, 283.91624305357095, 282.88053305943293, 261.4479193145508, 257.3285905300503, 246.0600750303686, 241.8173754640052, 240.10510992645092, 236.8854201120906, 228.5135674416909, 208.8907277049693, 204.75953836376422, 203.35934191642144, 200.86631587353708, 197.4874846779785, 647.3513261309482, 957.4901054907623, 906.9549813582845, 654.8045839326163, 330.02404178567417, 455.65248586525917, 536.1841544552249, 696.4611262295783, 471.752404386564, 782.4086398928675, 978.3077546185486, 407.3722110033302, 634.7543233196807, 551.7216936595133, 808.7300911428129, 5021.176463196902, 445.7908423120921, 3276.750133972507, 703.6544174219916, 879.7505169097211, 1141.7753606573085, 1041.5065221724933, 517.4029830024164, 511.3190476508686, 422.8556769315688, 418.7043587944389, 357.7731216897647, 329.7722712037464, 306.3955665316915, 279.9687009233635, 251.74028191822163, 233.4840957295052, 231.03441006659656, 225.46751481315712, 218.8748743759119, 188.07840686155015, 173.64152748226257, 159.94177221926648, 141.6699082691105, 139.32492056822045, 129.11367985339328, 120.41684568774787, 120.14150677436456, 102.1509211426942, 102.64192850220964, 101.17258488577325, 96.67990688236249, 92.36459595852901, 89.77630527631118, 88.52069519241151, 178.4883938999676, 1171.1758411695644, 490.1032091215315, 223.39126038656286, 285.36159570512973, 408.99645076785384, 1055.1236644213213, 963.4206104597388, 3534.991938190475, 588.0124452833552, 333.5600523880021, 560.4560437414381, 4071.5571714263233, 4424.712667890065, 427.95953956527666, 524.2419457367097, 293.5209774973748, 279.5110123507049, 251.82173256671322, 2040.618692649685, 647.535776752963, 633.1835797145504, 560.59235965676, 498.1309136948606, 458.2095516120407, 342.0495866476865, 260.18084482487785, 250.25227314099135, 221.13329333737622, 222.72258696032006, 219.90002526773435, 213.11879101367285, 192.0504091256324, 178.49737840031872, 164.09349711469028, 161.05302052146325, 143.9904638562585, 123.69567805286042, 105.92395841177051, 94.40057061231035, 93.28838047462523, 87.90098952448285, 86.23519669017594, 81.6165077119515, 78.12443744077756, 77.89428725832514, 73.28971265951338, 72.13282900105956, 70.77928660068609, 212.12665164848377, 209.2646712010657, 523.7460471461908, 146.14092490314633, 435.4565919557918, 159.231310923139, 455.7718726114877, 1034.7078501285885, 200.89701937055028, 433.6550267671259, 204.85926886379505, 1599.8407379707294, 475.9017811951026, 3014.9716196068025, 391.8420961584262, 2600.4491175027388, 522.7172925672855, 399.24835090219943, 309.97574701294957, 359.1658093736548, 229.79360102458392, 257.3392625559261, 756.9644766401732, 641.5351447390728, 601.0002863530092, 535.2158241027138, 453.0044919339953, 437.60908814559326, 387.3192070506703, 361.677053000758, 317.2068323906026, 284.7198085771442, 239.6016901244465, 227.32302293999828, 210.36279679103126, 162.60452017728906, 161.6740600641718, 137.10519802951947, 133.93907891339643, 133.07471015301536, 127.57774363368236, 118.96897069403919, 113.81849748118432, 109.96507490925059, 112.84895445772807, 108.06717830568849, 106.69009733827498, 103.94548203177621, 103.17336148935361, 99.67333448099919, 99.12935594569554, 93.19507317319741, 248.03614073441923, 506.37787123114344, 942.4323917981505, 276.58900349580085, 389.63521011912763, 217.9087386687094, 604.8291207545163, 276.07131628527344, 443.94919674372875, 888.3689660702918, 204.26887467215062, 405.1224408188858, 308.40969954385986, 583.5940488997236, 1355.6555008303615, 1244.0783096534476, 434.3139685334407, 238.20635851358108, 360.9159043579352, 263.74377753496094, 233.0762424771895, 527.8871473036189, 297.2251855454024, 242.08557011214438, 199.46884154668342, 165.03554017957043, 156.5908039147194, 151.92267462791324, 149.8987236985227, 108.66404580540302, 104.57828640818136, 97.85102862702556, 91.85719802334087, 88.80349058780837, 82.65556150893852, 78.21838767594296, 78.24422611592202, 76.37880727001972, 74.34334410671742, 72.52683477685214, 70.33147041317433, 69.95273189994795, 63.04391174145108, 61.81348348183924, 61.18526274160417, 59.87761046352051, 59.97495758722067, 56.893547382330674, 55.649509518256345, 55.75448291432011, 52.52619268455701, 87.18435547882488, 75.43764719155793, 122.52042921729208, 97.20985662363977, 83.51347928065375, 78.18900701014489, 81.0747383686816, 116.36959877582706, 268.16569709100406, 239.27828623823407, 134.91696116146656, 81.1851299720014], \"Total\": [6319.0, 2041.0, 2667.0, 3190.0, 1658.0, 1411.0, 21239.0, 1293.0, 24380.0, 1142.0, 1743.0, 1042.0, 2305.0, 1363.0, 757.0, 1448.0, 1125.0, 3833.0, 965.0, 1030.0, 642.0, 528.0, 952.0, 601.0, 1037.0, 889.0, 878.0, 648.0, 881.0, 990.0, 588.56315564868, 569.7024483148772, 492.32526829641256, 450.15178376211514, 403.01726698251184, 401.335677234284, 365.3680764045554, 306.3902399835749, 303.35380391173874, 273.26749463284017, 271.75159993183746, 261.16093999329144, 250.77368549232776, 241.50544057669003, 241.05320853168317, 244.5332412103053, 222.95703040281586, 220.4527226047043, 203.95624099016885, 203.92701018192537, 203.33325949914033, 192.43944258652857, 189.19418112799343, 186.19042562059195, 182.8193937748226, 178.38771163911005, 177.36264062920532, 174.5649653709535, 173.99495792527745, 155.98243180766912, 273.82897050128577, 852.6145162049456, 1009.5794494114291, 448.3621300975369, 408.7640213582196, 330.18869437292807, 496.15066657994373, 533.1067030405379, 677.0849753377454, 455.6289100904781, 1133.814166940445, 3190.6234090717003, 544.3626156904032, 729.5754020244785, 506.38724382533735, 2305.4215398228484, 1800.4387019440992, 1825.0839253288766, 461.10276326637387, 1119.0427348454489, 1091.299385525097, 3833.2423587115936, 647.4642017779196, 621.6803593928051, 21239.778326128144, 2667.949626635115, 24380.04731082422, 1100.6061663968, 613.7119412653043, 586.5850149873364, 521.097938395799, 1992.2240706908976, 703.6797600057596, 918.1114254028614, 878.0952324524644, 6319.755555985086, 1658.3478148731447, 1125.486053938422, 1030.3747883866968, 952.7065829045731, 889.7256106728604, 881.8178202015483, 817.618741636628, 632.7416371761548, 618.6581729350648, 582.95538602839, 510.0963012235117, 441.8095799333537, 401.6693409692681, 377.0766380390243, 315.00819660696, 291.34628990019627, 284.71519801959204, 283.67958511202573, 262.2477215660206, 258.130537315537, 246.86116996652606, 242.6159078632951, 240.9056276936763, 237.68380511419625, 229.31671380999907, 209.69168308202273, 205.55973565826687, 204.15867653637034, 201.6646222988655, 198.28782438976532, 662.3866888445375, 990.0630555920193, 946.2374022850959, 678.5510975529678, 337.4270474925013, 476.4892348935945, 567.3449397804551, 787.5711814585669, 512.9250585251126, 942.0526045200991, 1249.431216046915, 451.11430108253364, 826.6607821400459, 693.5651402532014, 1276.415052305599, 24380.04731082422, 558.602660247917, 21239.778326128144, 1498.6550375202044, 3833.2423587115936, 1142.561683128735, 1042.8702756410196, 518.1881159655625, 512.1053761927817, 423.64100816452674, 419.49059001087477, 358.55793224728126, 330.5580552582402, 307.24536839009056, 280.75697840260204, 252.53248178156238, 234.27063085226916, 231.81976294269347, 226.25393427004522, 219.6625398039263, 188.8655095858513, 174.42745012399845, 160.7279080668589, 142.45712508493307, 140.11637667898918, 129.9004264458437, 121.20562557843589, 120.93698664403999, 102.9375994135871, 103.43536755794479, 101.96018009996793, 97.46555064903565, 93.15174006519517, 90.56601637145687, 89.30692143337745, 181.97349754543296, 1293.1321680509518, 532.8877837587131, 237.62733905011092, 318.76173127289803, 486.08284441412417, 1448.4437851752725, 1363.7807624974655, 6319.755555985086, 898.6151036918204, 443.13377552503323, 1037.2250926117092, 21239.778326128144, 24380.04731082422, 791.7151121785859, 1743.2710441236757, 878.0952324524644, 918.1114254028614, 686.4810965164098, 2041.4083602575809, 648.3250880316641, 633.9731191983379, 561.3828406521321, 498.92001271522554, 458.99902776520065, 342.8430581705488, 260.97326827043224, 251.0404937232544, 221.9233805318173, 223.51899108065044, 220.6927407159136, 213.91089518451565, 192.84344859195704, 179.28869321917776, 164.88800576880215, 161.84170688587412, 144.78164326298875, 124.4854522076403, 106.71744231733034, 95.1888566708837, 94.07718549715396, 88.69519038914363, 87.03000115748004, 82.40837935803526, 78.9137934295774, 78.68876390392784, 74.08227255867871, 72.92508507170353, 71.57183487323834, 219.27000078256498, 219.4694425385053, 585.1776043919643, 152.71880755714386, 492.88776897437407, 170.11726331540504, 566.4863518011019, 1743.2710441236757, 241.11955903228244, 686.4810965164098, 264.09288777990787, 6319.755555985086, 1037.2250926117092, 24380.04731082422, 793.9121183599381, 21239.778326128144, 1992.2240706908976, 1363.7807624974655, 898.6151036918204, 1498.6550375202044, 448.0451287079042, 791.7151121785859, 757.7546911872929, 642.3240036658377, 601.789084266927, 536.0060899534008, 453.7945726088411, 438.3993858037194, 388.10979798889736, 362.4684669540557, 317.99670213541145, 285.50960106183794, 240.39252594318475, 228.1124858994996, 211.15327253255657, 163.39320063485968, 162.46279820024233, 137.89597744369053, 134.72856791582137, 133.864303678439, 128.36634152339695, 119.76222244890727, 114.6077811726271, 110.75811141451713, 113.67450954852099, 108.86035116312729, 107.48423261060218, 104.7355816953736, 103.96471325845066, 100.46377321262153, 99.92000230212135, 93.98425166454602, 264.7813395402009, 596.6611542711305, 1411.997934432559, 338.11338287688176, 517.9166147368323, 256.89124889438, 965.2008353853945, 374.5046903433859, 707.1830784160247, 2667.949626635115, 278.9548348570695, 878.3862446184799, 651.1310851424055, 3190.6234090717003, 21239.778326128144, 24380.04731082422, 2305.4215398228484, 477.3520255013468, 3833.2423587115936, 1800.4387019440992, 611.1808624772267, 528.6821574529023, 298.02021124353604, 242.88311214130707, 200.2679612933969, 165.83410217024635, 157.3889067084551, 152.71798167516474, 150.69549512572004, 109.45839613853136, 105.38153347883036, 98.65205799221077, 92.65444168155778, 89.59816514591353, 83.45496988751889, 79.01804197970641, 79.0497906823235, 77.17466143259566, 75.14256778162496, 73.32038165210568, 71.12852266700628, 70.74940272552449, 63.842417918596006, 62.61680680789807, 61.986472805849196, 60.67333591620669, 60.78336603326554, 57.689753677595405, 56.45626777966864, 56.56499605538879, 53.32396625448293, 92.00659892766042, 92.21924975095385, 209.01730523321675, 156.09666014147663, 117.67510963047415, 120.37542713633366, 158.32982799887935, 653.6664755799577, 24380.04731082422, 21239.778326128144, 1992.2240706908976, 791.7151121785859], \"Category\": [\"Default\", \"Default\", \"Default\", \"Default\", \"Default\", \"Default\", \"Default\", \"Default\", \"Default\", \"Default\", \"Default\", \"Default\", \"Default\", \"Default\", \"Default\", \"Default\", \"Default\", \"Default\", \"Default\", \"Default\", \"Default\", \"Default\", \"Default\", \"Default\", \"Default\", \"Default\", \"Default\", \"Default\", \"Default\", \"Default\", \"Topic1\", \"Topic1\", \"Topic1\", \"Topic1\", \"Topic1\", \"Topic1\", \"Topic1\", \"Topic1\", \"Topic1\", \"Topic1\", \"Topic1\", \"Topic1\", \"Topic1\", \"Topic1\", \"Topic1\", \"Topic1\", \"Topic1\", \"Topic1\", \"Topic1\", \"Topic1\", \"Topic1\", \"Topic1\", \"Topic1\", \"Topic1\", \"Topic1\", \"Topic1\", \"Topic1\", \"Topic1\", \"Topic1\", \"Topic1\", \"Topic1\", \"Topic1\", \"Topic1\", \"Topic1\", \"Topic1\", \"Topic1\", \"Topic1\", \"Topic1\", \"Topic1\", \"Topic1\", \"Topic1\", \"Topic1\", \"Topic1\", \"Topic1\", \"Topic1\", \"Topic1\", \"Topic1\", \"Topic1\", \"Topic1\", \"Topic1\", \"Topic1\", \"Topic1\", \"Topic1\", \"Topic1\", \"Topic1\", \"Topic1\", \"Topic1\", \"Topic1\", \"Topic1\", \"Topic1\", \"Topic1\", \"Topic1\", \"Topic1\", \"Topic1\", \"Topic1\", \"Topic1\", \"Topic2\", \"Topic2\", \"Topic2\", \"Topic2\", \"Topic2\", \"Topic2\", \"Topic2\", \"Topic2\", \"Topic2\", \"Topic2\", \"Topic2\", \"Topic2\", \"Topic2\", \"Topic2\", \"Topic2\", \"Topic2\", \"Topic2\", \"Topic2\", \"Topic2\", \"Topic2\", \"Topic2\", \"Topic2\", \"Topic2\", \"Topic2\", \"Topic2\", \"Topic2\", \"Topic2\", \"Topic2\", \"Topic2\", \"Topic2\", \"Topic2\", \"Topic2\", \"Topic2\", \"Topic2\", \"Topic2\", \"Topic2\", \"Topic2\", \"Topic2\", \"Topic2\", \"Topic2\", \"Topic2\", \"Topic2\", \"Topic2\", \"Topic2\", \"Topic2\", \"Topic2\", \"Topic2\", \"Topic2\", \"Topic2\", \"Topic2\", \"Topic3\", \"Topic3\", \"Topic3\", \"Topic3\", \"Topic3\", \"Topic3\", \"Topic3\", \"Topic3\", \"Topic3\", \"Topic3\", \"Topic3\", \"Topic3\", \"Topic3\", \"Topic3\", \"Topic3\", \"Topic3\", \"Topic3\", \"Topic3\", \"Topic3\", \"Topic3\", \"Topic3\", \"Topic3\", \"Topic3\", \"Topic3\", \"Topic3\", \"Topic3\", \"Topic3\", \"Topic3\", \"Topic3\", \"Topic3\", \"Topic3\", \"Topic3\", \"Topic3\", \"Topic3\", \"Topic3\", \"Topic3\", \"Topic3\", \"Topic3\", \"Topic3\", \"Topic3\", \"Topic3\", \"Topic3\", \"Topic3\", \"Topic3\", \"Topic3\", \"Topic3\", \"Topic3\", \"Topic3\", \"Topic3\", \"Topic4\", \"Topic4\", \"Topic4\", \"Topic4\", \"Topic4\", \"Topic4\", \"Topic4\", \"Topic4\", \"Topic4\", \"Topic4\", \"Topic4\", \"Topic4\", \"Topic4\", \"Topic4\", \"Topic4\", \"Topic4\", \"Topic4\", \"Topic4\", \"Topic4\", \"Topic4\", \"Topic4\", \"Topic4\", \"Topic4\", \"Topic4\", \"Topic4\", \"Topic4\", \"Topic4\", \"Topic4\", \"Topic4\", \"Topic4\", \"Topic4\", \"Topic4\", \"Topic4\", \"Topic4\", \"Topic4\", \"Topic4\", \"Topic4\", \"Topic4\", \"Topic4\", \"Topic4\", \"Topic4\", \"Topic4\", \"Topic4\", \"Topic4\", \"Topic4\", \"Topic4\", \"Topic4\", \"Topic4\", \"Topic4\", \"Topic4\", \"Topic4\", \"Topic4\", \"Topic5\", \"Topic5\", \"Topic5\", \"Topic5\", \"Topic5\", \"Topic5\", \"Topic5\", \"Topic5\", \"Topic5\", \"Topic5\", \"Topic5\", \"Topic5\", \"Topic5\", \"Topic5\", \"Topic5\", \"Topic5\", \"Topic5\", \"Topic5\", \"Topic5\", \"Topic5\", \"Topic5\", \"Topic5\", \"Topic5\", \"Topic5\", \"Topic5\", \"Topic5\", \"Topic5\", \"Topic5\", \"Topic5\", \"Topic5\", \"Topic5\", \"Topic5\", \"Topic5\", \"Topic5\", \"Topic5\", \"Topic5\", \"Topic5\", \"Topic5\", \"Topic5\", \"Topic5\", \"Topic5\", \"Topic5\", \"Topic5\", \"Topic5\", \"Topic5\", \"Topic5\", \"Topic5\", \"Topic5\", \"Topic5\", \"Topic5\", \"Topic5\", \"Topic6\", \"Topic6\", \"Topic6\", \"Topic6\", \"Topic6\", \"Topic6\", \"Topic6\", \"Topic6\", \"Topic6\", \"Topic6\", \"Topic6\", \"Topic6\", \"Topic6\", \"Topic6\", \"Topic6\", \"Topic6\", \"Topic6\", \"Topic6\", \"Topic6\", \"Topic6\", \"Topic6\", \"Topic6\", \"Topic6\", \"Topic6\", \"Topic6\", \"Topic6\", \"Topic6\", \"Topic6\", \"Topic6\", \"Topic6\", \"Topic6\", \"Topic6\", \"Topic6\", \"Topic6\", \"Topic6\", \"Topic6\", \"Topic6\", \"Topic6\", \"Topic6\", \"Topic6\", \"Topic6\", \"Topic6\"], \"logprob\": [30.0, 29.0, 28.0, 27.0, 26.0, 25.0, 24.0, 23.0, 22.0, 21.0, 20.0, 19.0, 18.0, 17.0, 16.0, 15.0, 14.0, 13.0, 12.0, 11.0, 10.0, 9.0, 8.0, 7.0, 6.0, 5.0, 4.0, 3.0, 2.0, 1.0, -5.5918, -5.6244, -5.7706, -5.8603, -5.9711, -5.9753, -6.0694, -6.2458, -6.2558, -6.3606, -6.3661, -6.406, -6.4467, -6.4845, -6.4864, -6.4721, -6.5647, -6.576, -6.6541, -6.6542, -6.6572, -6.7124, -6.7295, -6.7456, -6.764, -6.7886, -6.7944, -6.8103, -6.8137, -6.9235, -6.3624, -5.2381, -5.0904, -5.8875, -5.9782, -6.1949, -5.8158, -5.7576, -5.5355, -5.9114, -5.0734, -4.1225, -5.7495, -5.4847, -5.8183, -4.47, -4.695, -4.7036, -5.9114, -5.1496, -5.1745, -4.1079, -5.631, -5.6673, -2.7886, -4.4843, -2.7179, -5.2168, -5.6941, -5.7352, -5.8134, -5.0168, -5.6583, -5.5324, -5.5983, -4.9378, -3.9963, -4.3841, -4.4724, -4.5509, -4.6193, -4.6283, -4.7039, -4.9606, -4.9831, -5.0426, -5.1763, -5.3203, -5.4157, -5.479, -5.6593, -5.7376, -5.7607, -5.7643, -5.8431, -5.859, -5.9038, -5.9212, -5.9283, -5.9418, -5.9778, -6.0675, -6.0875, -6.0944, -6.1067, -6.1237, -4.9365, -4.545, -4.5993, -4.925, -5.6102, -5.2876, -5.1249, -4.8633, -5.2529, -4.747, -4.5235, -5.3996, -4.9561, -5.0963, -4.7139, -2.8879, -5.3095, -3.3147, -4.8531, -4.6297, -3.9764, -4.0683, -4.7679, -4.7797, -4.9697, -4.9795, -5.1368, -5.2183, -5.2918, -5.382, -5.4883, -5.5636, -5.5741, -5.5985, -5.6282, -5.7798, -5.8597, -5.9419, -6.0632, -6.0799, -6.156, -6.2257, -6.228, -6.3902, -6.3854, -6.3999, -6.4453, -6.4909, -6.5194, -6.5335, -5.8322, -3.9509, -4.8221, -5.6078, -5.3629, -5.003, -4.0553, -4.1462, -2.8462, -4.6399, -5.2069, -4.6879, -2.7049, -2.6217, -4.9577, -4.7547, -5.3347, -5.3837, -5.488, -3.2361, -4.3839, -4.4063, -4.5281, -4.6462, -4.7298, -5.0221, -5.2957, -5.3346, -5.4583, -5.4512, -5.4639, -5.4953, -5.5993, -5.6725, -5.7567, -5.7754, -5.8874, -6.0393, -6.1944, -6.3096, -6.3214, -6.3809, -6.4, -6.4551, -6.4988, -6.5017, -6.5627, -6.5786, -6.5975, -5.4999, -5.5135, -4.5961, -5.8725, -4.7807, -5.7867, -4.7351, -3.9152, -5.5543, -4.7849, -5.5348, -3.4794, -4.6919, -2.8458, -4.8862, -2.9937, -4.5981, -4.8675, -5.1206, -4.9733, -5.4199, -5.3067, -3.9291, -4.0945, -4.1598, -4.2757, -4.4425, -4.4771, -4.5992, -4.6677, -4.7989, -4.9069, -5.0794, -5.132, -5.2096, -5.4671, -5.4728, -5.6377, -5.661, -5.6675, -5.7097, -5.7795, -5.8238, -5.8582, -5.8324, -5.8757, -5.8885, -5.9145, -5.922, -5.9565, -5.962, -6.0237, -5.0448, -4.3311, -3.7099, -4.9359, -4.5932, -5.1743, -4.1535, -4.9378, -4.4627, -3.769, -5.239, -4.5542, -4.827, -4.1892, -3.3464, -3.4323, -4.4846, -5.0853, -4.6698, -4.9834, -5.107, -3.8587, -4.433, -4.6382, -4.8319, -5.0214, -5.0739, -5.1042, -5.1176, -5.4393, -5.4776, -5.5441, -5.6073, -5.6411, -5.7129, -5.768, -5.7677, -5.7918, -5.8188, -5.8436, -5.8743, -5.8797, -5.9837, -6.0034, -6.0136, -6.0352, -6.0336, -6.0864, -6.1085, -6.1066, -6.1662, -5.6595, -5.8042, -5.3193, -5.5507, -5.7025, -5.7684, -5.7322, -5.3708, -4.5359, -4.6499, -5.2229, -5.7308], \"loglift\": [30.0, 29.0, 28.0, 27.0, 26.0, 25.0, 24.0, 23.0, 22.0, 21.0, 20.0, 19.0, 18.0, 17.0, 16.0, 15.0, 14.0, 13.0, 12.0, 11.0, 10.0, 9.0, 8.0, 7.0, 6.0, 5.0, 4.0, 3.0, 2.0, 1.0, 0.9883, 0.9883, 0.988, 0.9879, 0.9877, 0.9877, 0.9875, 0.9871, 0.987, 0.9867, 0.9867, 0.9866, 0.9865, 0.9864, 0.9864, 0.9863, 0.9861, 0.9861, 0.9858, 0.9858, 0.9857, 0.9855, 0.9854, 0.9854, 0.9853, 0.9852, 0.9852, 0.9851, 0.9851, 0.9845, 0.9828, 0.9713, 0.9501, 0.9646, 0.9664, 0.9632, 0.9351, 0.9214, 0.9044, 0.9247, 0.851, 0.7673, 0.9087, 0.8806, 0.9122, 0.7447, 0.767, 0.7448, 0.9127, 0.7879, 0.7882, 0.5984, 0.8537, 0.8581, 0.2055, 0.5844, 0.1384, 0.7374, 0.8441, 0.8483, 0.8884, 0.3439, 0.7431, 0.603, 0.5817, -0.7315, 1.5479, 1.5477, 1.5476, 1.5476, 1.5475, 1.5475, 1.5474, 1.5471, 1.5471, 1.547, 1.5468, 1.5466, 1.5464, 1.5463, 1.5459, 1.5457, 1.5456, 1.5456, 1.5454, 1.5453, 1.5452, 1.5451, 1.5451, 1.545, 1.5449, 1.5446, 1.5445, 1.5445, 1.5444, 1.5444, 1.5254, 1.515, 1.506, 1.5128, 1.5262, 1.5037, 1.4919, 1.4255, 1.4647, 1.3627, 1.3038, 1.4464, 1.2843, 1.3196, 1.0921, -0.0317, 1.3228, -0.3206, 0.7924, 0.0766, 1.9404, 1.9398, 1.9395, 1.9395, 1.9392, 1.9392, 1.9389, 1.9387, 1.9383, 1.9383, 1.9379, 1.9377, 1.9377, 1.9376, 1.9375, 1.9369, 1.9365, 1.9362, 1.9355, 1.9354, 1.935, 1.9345, 1.9345, 1.9334, 1.9334, 1.9333, 1.933, 1.9326, 1.9323, 1.9322, 1.9217, 1.842, 1.8574, 1.8793, 1.8304, 1.7684, 1.6242, 1.5935, 1.3601, 1.517, 1.657, 1.3255, 0.2892, 0.2345, 1.3259, 0.7395, 0.8453, 0.7518, 0.9382, 2.1003, 2.0994, 2.0994, 2.0992, 2.0991, 2.0989, 2.0983, 2.0976, 2.0975, 2.0971, 2.0971, 2.0971, 2.0969, 2.0965, 2.0962, 2.0958, 2.0958, 2.0952, 2.0943, 2.0932, 2.0923, 2.0922, 2.0917, 2.0915, 2.091, 2.0906, 2.0905, 2.0899, 2.0897, 2.0895, 2.0675, 2.053, 1.9897, 2.0566, 1.9768, 2.0345, 1.8832, 1.579, 1.9182, 1.6413, 1.8467, 0.7269, 1.3216, 0.0105, 1.3945, 0.0005, 0.7627, 0.8722, 1.0363, 0.6721, 1.4329, 0.9768, 2.3983, 2.3981, 2.398, 2.3979, 2.3976, 2.3975, 2.3973, 2.3972, 2.3969, 2.3966, 2.396, 2.3959, 2.3956, 2.3945, 2.3945, 2.3936, 2.3935, 2.3934, 2.3932, 2.3927, 2.3924, 2.3922, 2.3921, 2.392, 2.3919, 2.3918, 2.3917, 2.3914, 2.3914, 2.3909, 2.334, 2.2353, 1.995, 2.1985, 2.1147, 2.2348, 1.932, 2.0944, 1.9338, 1.2997, 2.0877, 1.6254, 1.6521, 0.7006, -0.3522, -0.576, 0.7301, 1.7042, 0.0365, 0.4785, 1.4353, 2.8287, 2.8275, 2.8269, 2.8262, 2.8254, 2.8251, 2.825, 2.8249, 2.8229, 2.8226, 2.8221, 2.8216, 2.8213, 2.8206, 2.82, 2.82, 2.8199, 2.8195, 2.8193, 2.819, 2.8189, 2.8176, 2.8173, 2.8172, 2.817, 2.8168, 2.8163, 2.8158, 2.8158, 2.8151, 2.7764, 2.6294, 2.2961, 2.3566, 2.4873, 2.3987, 2.1609, 1.1044, -1.6797, -1.6558, 0.1379, 0.5528]}, \"token.table\": {\"Topic\": [1, 1, 2, 1, 2, 1, 1, 3, 3, 3, 3, 1, 2, 2, 3, 1, 2, 5, 4, 5, 5, 5, 1, 6, 2, 6, 6, 3, 1, 3, 4, 5, 5, 1, 3, 2, 3, 5, 2, 5, 2, 2, 4, 1, 4, 3, 2, 3, 6, 4, 4, 1, 3, 4, 6, 1, 2, 5, 5, 4, 5, 1, 2, 5, 5, 6, 5, 1, 2, 6, 4, 5, 3, 2, 2, 6, 2, 3, 1, 2, 5, 2, 4, 6, 1, 3, 2, 6, 2, 6, 6, 1, 5, 6, 5, 6, 6, 5, 5, 1, 2, 4, 5, 6, 1, 5, 1, 2, 3, 4, 5, 6, 2, 4, 2, 4, 1, 5, 1, 5, 1, 2, 5, 1, 5, 1, 4, 5, 2, 3, 6, 2, 3, 4, 1, 1, 4, 3, 1, 4, 5, 3, 5, 2, 5, 2, 4, 1, 3, 4, 2, 5, 1, 2, 3, 4, 3, 1, 5, 6, 3, 1, 2, 6, 4, 6, 2, 1, 3, 4, 5, 2, 2, 1, 4, 1, 2, 4, 5, 4, 1, 2, 3, 6, 4, 1, 2, 5, 2, 2, 5, 6, 1, 3, 1, 4, 6, 2, 5, 2, 2, 6, 5, 1, 1, 2, 4, 1, 2, 3, 5, 3, 1, 3, 1, 3, 5, 1, 2, 3, 4, 5, 6, 3, 2, 5, 1, 2, 6, 1, 1, 4, 1, 2, 6, 4, 1, 2, 2, 3, 4, 5, 2, 5, 5, 6, 6, 6, 4, 1, 1, 2, 4, 4, 1, 5, 4, 1, 3, 4, 6, 1, 2, 3, 4, 6, 6, 3, 4, 1, 5, 1, 2, 3, 4, 1, 2, 3, 4, 5, 6, 1, 1, 2, 3, 5, 6, 2, 3, 4, 4, 5, 1, 1, 4, 6, 1, 6, 5, 1, 3, 6, 1, 1, 2, 5, 2, 2, 3, 4, 1, 4, 1, 2, 4, 4, 2, 3, 2, 2, 1, 3, 4, 5, 3, 4, 2, 3, 1, 3, 2, 2, 6, 3, 1, 3, 4, 2, 4, 1, 5, 1, 2, 3, 4, 4, 6, 3, 2, 2, 1, 2, 3, 6, 1, 2, 3, 5, 1, 2, 5, 1, 6, 5, 1, 2, 5, 6, 3, 4, 1, 2, 6, 6, 2, 4, 1, 5, 3, 4, 2, 1, 5, 1, 3, 4, 4, 4, 2, 1, 3, 1, 2, 5, 3, 2, 4, 5, 1, 4, 5, 1, 4, 1, 2, 4, 5, 4, 1, 3, 4, 6, 3, 4, 4, 4, 1, 5, 6, 2, 5, 6, 1, 1, 2, 3, 5, 1, 4, 4, 3, 1, 3, 4, 1, 4, 2, 1, 3, 3, 4, 3, 6, 3, 1, 6, 4, 4, 1, 6, 4, 5, 3, 4, 2, 2, 5], \"Freq\": [0.9993393223599144, 0.9341469487434518, 0.06565289800405787, 0.9955180150316446, 0.9956202883731069, 0.9953617072731494, 0.9979463959466898, 0.998830510093535, 0.9957909217299306, 0.9969838289017431, 0.9995084001703988, 0.365868452551115, 0.6338063771174562, 0.07881584318513338, 0.9195181704932228, 0.8007839448352093, 0.016297755433045357, 0.18303633024804786, 0.9981559915582087, 0.99714612476254, 0.9935434342487959, 0.9954948498134003, 0.9967635809983239, 0.9868047303648468, 0.9996362601347384, 0.987112164324088, 0.9889022763288209, 0.9954173232171972, 0.0007332556870568545, 0.706125226635751, 0.29256901913568495, 0.9920967445545159, 0.9907207625720812, 0.10352560160914695, 0.8940847411699054, 0.9972770170360726, 0.9908915749062696, 0.9971513589242017, 0.247144031216377, 0.7530169701123988, 0.9965115211653464, 0.9779891755930847, 0.02074522493682301, 0.1658928050488205, 0.8336113453703231, 0.9922522739317305, 0.082107080922819, 0.4042194753123397, 0.5115902734421799, 0.9932771784841228, 0.9976780895522959, 0.031577015034115946, 0.5405984973840651, 0.32461171455071197, 0.10230952871053567, 0.7768446389857387, 0.07268721768287613, 0.14991738647093203, 0.9929767736669182, 0.992812189123369, 0.9994955759647957, 0.8677344067696455, 0.12956348706187243, 0.9986887693918738, 0.9940663078187016, 0.9919182085955572, 0.9946968594417543, 0.9751999553210643, 0.024228570318535758, 0.9933903254987113, 0.995044443766319, 0.9983671458101925, 0.9945762264452584, 0.9991844556746977, 0.0434751425073866, 0.9455843495356586, 0.9974613871418434, 0.9975494102350599, 0.27869847407725373, 0.09428089643505609, 0.6268125532220762, 0.9569995848947773, 0.033578932803325516, 0.010493416501039224, 0.9991635998160013, 0.9920325039410144, 0.9585332368068095, 0.04121587236545267, 0.994324627510191, 0.9975290081328572, 0.989407645907177, 0.9955546951495838, 0.9975935312281544, 0.9900115602441563, 0.9990889909597223, 0.9880437402896508, 0.994970261488255, 0.9931552515221223, 0.9907926112797756, 0.7816055416962657, 0.12363578568650022, 0.07531835219982197, 0.015632110833925315, 0.004263302954706904, 0.9977164630045581, 0.9936355352019921, 0.4268654554816846, 0.205947098296679, 0.18150087830368544, 0.1236667001323416, 0.05102533166322818, 0.010992595567319253, 0.9666051011546443, 0.03232117370632039, 0.10424185673233816, 0.8954546381597572, 0.6668041938421901, 0.33283986741532595, 0.5252398599971663, 0.47302303181031347, 0.06228316483672181, 0.0856393516504925, 0.8486081209003348, 0.9371661686595063, 0.06145351925636107, 0.8766562941320861, 0.0659502900172762, 0.05629902806352847, 0.14734460032107147, 0.23062633093732923, 0.6214098361366927, 0.10554870432812982, 0.3005843536301088, 0.5937114618457302, 0.9990431687011408, 0.9972342391653776, 0.9885499816830028, 0.9964637918170242, 0.5000553472091114, 0.49375742092184305, 0.006297926287268406, 0.9978415063692564, 0.9981229878311864, 0.1508393823793376, 0.848052527599387, 0.768150629277613, 0.23105003179846315, 0.14195111140605204, 0.8414203560155838, 0.016458099873165453, 0.18041285287489525, 0.8192518073171473, 0.7829776922409182, 0.1857448829038987, 0.02082096032551077, 0.010410480162755385, 0.9959466650494487, 0.9607961023429079, 0.03862994638285918, 0.9939245656833395, 0.9973037948801524, 0.2160983306101916, 0.7827561753213608, 0.9841340347768849, 0.4114491855305625, 0.5884680211658044, 0.9992583415321652, 0.6796560665021599, 0.30497387599455894, 0.007624346899863973, 0.007624346899863973, 0.9935052775240808, 0.9983336020427825, 0.9816863120341335, 0.017592944660109917, 0.11297712609759561, 0.0670801686204474, 0.8049620234453687, 0.014122140762199451, 0.9873145835785595, 0.8964118008710732, 0.05893839057715007, 0.04386112787136749, 0.9936686762814781, 0.995626252288499, 0.08385943589662301, 0.8301022641918886, 0.08492094774341571, 0.9981675817589202, 0.26169110866066775, 0.7313011803667975, 0.00716961941536076, 0.0009588920341845312, 0.9991654996202814, 0.9186439260297162, 0.028061470409267857, 0.051692182332861845, 0.9995681386395495, 0.998249047792103, 0.9974880230329579, 0.9767708362748383, 0.021135690429440086, 0.9951230819518151, 0.9953115384676317, 0.09129924296702305, 0.7984208306527898, 0.11099123654814566, 0.09845983150618766, 0.24719702378149241, 0.15502186237144439, 0.4985838276270779, 0.9952234338601128, 0.9978265787730132, 0.9967911391960176, 0.7829370762878786, 0.028628170102493068, 0.18825190643154532, 0.4565019394798698, 0.15428597933947333, 0.19171574851093542, 0.12241182370541064, 0.06384247420943724, 0.011252471486766592, 0.997707172494011, 0.9997902642195894, 0.9945923279146218, 0.07993370438537983, 0.9202124017048605, 0.9871163350267795, 0.9974758724604323, 0.9979071255062284, 0.9921620283344166, 0.9761133053594682, 0.022017593353972967, 0.9965767045151769, 0.9853909373821994, 0.05464048029051963, 0.9447515301844683, 0.08704480308148918, 0.21649604868985772, 0.5133411463780132, 0.18078536024616984, 0.9652920794942352, 0.03389575240972124, 0.9987075649421524, 0.9952986435042607, 0.9933239129959928, 0.9956303875554571, 0.9946012267482768, 0.9936880662984791, 0.9038608010040768, 0.05565172660110027, 0.04029952615941744, 0.9968610625176596, 0.5384874853151234, 0.4610727939801796, 0.9920103365485721, 0.1788043841236613, 0.5593570777673829, 0.25317434920164433, 0.008544634285555495, 0.5240374390406516, 0.09336299201298964, 0.05220296327608023, 0.2625206710902881, 0.06776346194491184, 0.9963795034458575, 0.5399020945298698, 0.45891678035038935, 0.3718980388912547, 0.6278430770635631, 0.9936064079738572, 0.7958877515073495, 0.16869359950427518, 0.03460381528292824, 0.8173742346338803, 0.04398426374711463, 0.07239076741712616, 0.032988197810335976, 0.021075793045492428, 0.011912404764843546, 0.9978193508266359, 0.8726351178158189, 0.04170114722305683, 0.016989356276060193, 0.06641293817005348, 0.00308897386837458, 0.9976043918995533, 0.03928789188427194, 0.9560053691839504, 0.9881649874321354, 0.9895274830930285, 0.9937016509084787, 0.9221794177826197, 0.07715445328061758, 0.9963640446899689, 0.9957075567382343, 0.9953847649849134, 0.9990040428702455, 0.09357125511955587, 0.9055532210330571, 0.9929367478808299, 0.9988336921865609, 0.676189960728496, 0.22957066567942766, 0.09417614807985612, 0.9962407366637867, 0.9990725746488528, 0.6543402148309031, 0.3449752833292176, 0.11564498773951827, 0.8825538538015868, 0.2902602594388807, 0.4697545348160276, 0.239548122157605, 0.9962706208306986, 0.9989361282791395, 0.9944578454554138, 0.9971447766039727, 0.9983611335424845, 0.1441904504600117, 0.11748851518963915, 0.002670193527037253, 0.736973413462282, 0.9781644162527519, 0.016485917127855368, 0.9952422024543445, 0.9984439550847909, 0.6650759261827729, 0.3348156203728343, 0.9978507955833396, 0.9971230470924694, 0.9867198803025009, 0.9930683334113681, 0.9746585865869957, 0.022303400150732167, 0.9947991966837839, 0.058782981839177316, 0.9346494112429193, 0.9969148059103218, 0.9945382208917517, 0.8652267689385754, 0.032588578867742954, 0.0782125892825831, 0.024441434150807215, 0.9975409793185038, 0.9945483188343115, 0.9900530559313381, 0.9967043188275208, 0.9967014281546294, 0.11427538503036856, 0.8837296442348502, 0.9965632962322364, 0.9958121427437032, 0.800360489054151, 0.04276735437693936, 0.00999756336084297, 0.14663092929236354, 0.870513024778463, 0.04498091617396314, 0.0837879811083627, 0.17349956807509712, 0.8132792253520177, 0.9935025121087641, 0.2601521247827431, 0.35668656102288043, 0.38122921430427126, 0.9840856760967998, 0.9384442080251284, 0.058915779876017024, 0.42223367774081166, 0.399286195254898, 0.17746053122439912, 0.9847791825608253, 0.902210368909447, 0.09531952300517499, 0.9974413435564129, 0.9953836771426054, 0.7537227321575083, 0.24597538265020477, 0.998618880391503, 0.9933207560254215, 0.003651914544211108, 0.9260408612067391, 0.056386562977459524, 0.017349711685372162, 0.9994985724944702, 0.9884203585981092, 0.9988114147589973, 0.9979553719547768, 0.9937502344241868, 0.9472928923784281, 0.026201718299828862, 0.026201718299828862, 0.995471178119508, 0.045564429764501396, 0.9522965820780792, 0.9982151176004496, 0.926168669765637, 0.013823412981576673, 0.06121797177555383, 0.9987669908792652, 0.9993180399819713, 0.237960688048052, 0.07932022934935068, 0.01487254300300325, 0.6671397861347172, 0.995855275346927, 0.8176631432457052, 0.11885158257014077, 0.0634470854321804, 0.0008936209215800057, 0.9876358717036409, 0.9958391922040639, 0.994614491426094, 0.9984650465944542, 0.9983610182615416, 0.34890841926095134, 0.647972778627481, 0.060427219032067665, 0.9366218949970488, 0.9901495007595904, 0.9956308047584244, 0.16707586616536602, 0.07732436781207022, 0.7283679289440543, 0.02623505336480954, 0.9987263302395148, 0.99574170738835, 0.9912469853412775, 0.9984869071875171, 0.0014567043507455063, 0.3670894963878676, 0.6322096882235497, 0.9954542059872384, 0.996100329805361, 0.9992432394157337, 0.9989925873979536, 0.9983117783718681, 0.03192411171166739, 0.9668445261247838, 0.9905827932137182, 0.9847946667866684, 0.9978914325087773, 0.288931109618402, 0.713829800233699, 0.9875105478470639, 0.9997999615042581, 0.9942816853020262, 0.9987097021465812, 0.9978234643108836, 0.996865684050437, 0.22340624352280913, 0.7762420325792521, 0.9988278988886133, 0.9967994591321129, 0.9971405050976603], \"Term\": [\"\\uac00\\uac8c\", \"\\uac00\\uaca9\", \"\\uac00\\uaca9\", \"\\uac00\\uba74\", \"\\uac01\\uc885\", \"\\uac04\\ud310\", \"\\uac08\\ube44\", \"\\uac10\\ub3c5\", \"\\uac10\\uc0c1\", \"\\uac15\\ucca0\", \"\\uac1c\\ubd09\", \"\\uac70\\ub9ac\", \"\\uac70\\ub9ac\", \"\\uac74\\ub300\", \"\\uac74\\ub300\", \"\\uac74\\ubb3c\", \"\\uac74\\ubb3c\", \"\\uac74\\ubb3c\", \"\\uacb0\\uc81c\", \"\\uacc4\\ub300\", \"\\uace0\\uc794\\ub3d9\", \"\\uace8\\ud504\", \"\\uacf1\\ucc3d\", \"\\uacf5\\uac1c\", \"\\uacf5\\uc6d0\", \"\\uacf5\\ud56d\", \"\\uacfc\\uc790\", \"\\uad00\\uac1d\", \"\\uad00\\ub78c\", \"\\uad00\\ub78c\", \"\\uad00\\ub78c\", \"\\uad00\\uc800\", \"\\uad00\\uc800\\ub3d9\", \"\\uad11\\uace0\", \"\\uad11\\uace0\", \"\\uad11\\uad50\", \"\\uad11\\ubcf5\", \"\\uad11\\uc5ed\\uc2dc\", \"\\uad11\\uc8fc\", \"\\uad11\\uc8fc\", \"\\uad50\\uc721\", \"\\uad50\\ud1b5\", \"\\uad50\\ud1b5\", \"\\uad6c\\ub9e4\", \"\\uad6c\\ub9e4\", \"\\uad6c\\ubbf8\", \"\\uad6d\\uc81c\", \"\\uad6d\\uc81c\", \"\\uad6d\\uc81c\", \"\\uad70\\uc0b0\", \"\\uadf8\\ub8f9\", \"\\uadf9\\uc7a5\", \"\\uadf9\\uc7a5\", \"\\uadf9\\uc7a5\", \"\\uadf9\\uc7a5\", \"\\uadfc\\ucc98\", \"\\uadfc\\ucc98\", \"\\uadfc\\ucc98\", \"\\uae08\\uace1\\ub3d9\", \"\\uae08\\uc561\", \"\\uaf43\\uc9d1\", \"\\ub0b4\\ubd80\", \"\\ub0b4\\ubd80\", \"\\ub124\\uc77c\", \"\\ub137\\ud50c\\ub9ad\\uc2a4\", \"\\ub179\\uc9c0\", \"\\ub208\\uc379\", \"\\ub290\\ub08c\", \"\\ub290\\ub08c\", \"\\ub2e4\\uc218\", \"\\ub2e4\\uc6b4\", \"\\ub2e8\\uad6c\\ub3d9\", \"\\ub2e8\\ub3c5\", \"\\ub2e8\\uc9c0\", \"\\ub2f4\\ubcf4\", \"\\ub2f4\\ubcf4\", \"\\ub2f9\\uc9c4\", \"\\ub2f9\\ucca8\", \"\\ub300\\uad6c\", \"\\ub300\\uad6c\", \"\\ub300\\uad6c\", \"\\ub300\\ud615\", \"\\ub300\\ud615\", \"\\ub300\\ud615\", \"\\ub3c4\\uace1\", \"\\ub3c4\\uad74\", \"\\ub3c4\\ubcf4\", \"\\ub3c4\\ubcf4\", \"\\ub3c4\\uc11c\\uad00\", \"\\ub3c4\\ucfc4\", \"\\ub3c5\\uc0b0\", \"\\ub3c8\\uae4c\\uc2a4\", \"\\ub3d9\\uad6c\", \"\\ub3d9\\ubc18\", \"\\ub3d9\\uc131\\ub85c\", \"\\ub4dc\\ub77c\\ub9c8\", \"\\ub4f1\\uc2ec\", \"\\ub514\\uc800\\ud2b8\", \"\\ub538\\uae30\", \"\\ub54c\\ubb38\", \"\\ub54c\\ubb38\", \"\\ub54c\\ubb38\", \"\\ub54c\\ubb38\", \"\\ub54c\\ubb38\", \"\\ub5a1\\ubcf6\\uc774\", \"\\ub77c\\uba58\", \"\\ub86f\\ub370\", \"\\ub86f\\ub370\", \"\\ub86f\\ub370\", \"\\ub86f\\ub370\", \"\\ub86f\\ub370\", \"\\ub86f\\ub370\", \"\\ub9c8\\ud2b8\", \"\\ub9c8\\ud2b8\", \"\\ub9cc\\uc6d0\", \"\\ub9cc\\uc6d0\", \"\\ub9db\\uc9d1\", \"\\ub9db\\uc9d1\", \"\\ub9de\\uc740\\ud3b8\", \"\\ub9de\\uc740\\ud3b8\", \"\\ub9e4\\uc2e4\", \"\\ub9e4\\uc2e4\", \"\\ub9e4\\uc2e4\", \"\\ub9e4\\uc77c\", \"\\ub9e4\\uc77c\", \"\\ub9e4\\uc7a5\", \"\\ub9e4\\uc7a5\", \"\\ub9e4\\uc7a5\", \"\\uba40\\ud2f0\\ud50c\\ub809\\uc2a4\", \"\\uba40\\ud2f0\\ud50c\\ub809\\uc2a4\", \"\\uba40\\ud2f0\\ud50c\\ub809\\uc2a4\", \"\\uba54\\uac00\\ubc15\\uc2a4\", \"\\uba54\\uac00\\ubc15\\uc2a4\", \"\\uba54\\uac00\\ubc15\\uc2a4\", \"\\uba54\\ub274\", \"\\uba54\\ub274\\ud310\", \"\\uba64\\ubc84\\uc2ed\", \"\\ubb34\\ub300\", \"\\ubb34\\ub8cc\", \"\\ubb34\\ub8cc\", \"\\ubb34\\ub8cc\", \"\\ubb34\\ube44\", \"\\ubb34\\uc2e4\\ub3d9\", \"\\ubb38\\uc758\", \"\\ubb38\\uc758\", \"\\ubb38\\ud654\", \"\\ubb38\\ud654\", \"\\ubbf8\\uc2a4\\ud130\", \"\\ubbf8\\uc2a4\\ud130\", \"\\ubbf8\\uc2a4\\ud130\", \"\\ubbf8\\uc6a9\\uc2e4\", \"\\ubbf8\\uc6a9\\uc2e4\", \"\\ubc14\\ub85c\", \"\\ubc14\\ub85c\", \"\\ubc14\\ub85c\", \"\\ubc14\\ub85c\", \"\\ubc18\\ub3c4\", \"\\ubc29\\ubb38\", \"\\ubc29\\ubb38\", \"\\ubc30\\uae09\", \"\\ubc30\\uc6b0\", \"\\ubc31\\ud654\\uc810\", \"\\ubc31\\ud654\\uc810\", \"\\ubc38\\ub9ac\", \"\\ubc88\\uac00\", \"\\ubc88\\uac00\", \"\\ubcd1\\uc6d0\", \"\\ubcf4\\uace0\", \"\\ubcf4\\uace0\", \"\\ubcf4\\uace0\", \"\\ubcf4\\uace0\", \"\\ubcf5\\ud569\", \"\\ubd84\\uc591\", \"\\uc0ac\\ub78c\", \"\\uc0ac\\ub78c\", \"\\uc0ac\\uc6a9\", \"\\uc0ac\\uc6a9\", \"\\uc0ac\\uc6a9\", \"\\uc0ac\\uc6a9\", \"\\uc0ac\\uc774\\ud2b8\", \"\\uc0ac\\uc9c4\", \"\\uc0ac\\uc9c4\", \"\\uc0ac\\uc9c4\", \"\\uc0b0\\uc5c5\", \"\\uc0bc\\uc9c4\", \"\\uc0c1\\uac00\", \"\\uc0c1\\uac00\", \"\\uc0c1\\uac00\", \"\\uc0c1\\uad8c\", \"\\uc0c1\\ub2f4\", \"\\uc0c1\\ub2f4\", \"\\uc0c1\\ub2f4\", \"\\uc0c1\\uc601\", \"\\uc0c1\\uc601\", \"\\uc0dd\\uac01\", \"\\uc0dd\\uac01\", \"\\uc0dd\\uac01\", \"\\uc0dd\\ud65c\", \"\\uc131\\uc11c\", \"\\uc138\\ub300\", \"\\uc13c\\ud130\", \"\\uc13c\\ud130\", \"\\uc18d\\ub208\\uc379\", \"\\uc190\\ub2d8\", \"\\uc1fc\\ud551\", \"\\uc1fc\\ud551\", \"\\uc1fc\\ud551\", \"\\uc218\\uc6d0\", \"\\uc218\\uc6d0\", \"\\uc218\\uc6d0\", \"\\uc218\\uc6d0\", \"\\uc218\\ud37c\", \"\\uc2a4\\uc2dc\", \"\\uc2a4\\ud06c\\ub9b0\", \"\\uc2dc\\uac04\", \"\\uc2dc\\uac04\", \"\\uc2dc\\uac04\", \"\\uc2dc\\ub124\\ub9c8\", \"\\uc2dc\\ub124\\ub9c8\", \"\\uc2dc\\ub124\\ub9c8\", \"\\uc2dc\\ub124\\ub9c8\", \"\\uc2dc\\ub124\\ub9c8\", \"\\uc2dc\\ub124\\ub9c8\", \"\\uc2dc\\uc0ac\\ud68c\", \"\\uc2dc\\uc124\", \"\\uc2dc\\uc220\", \"\\uc2dc\\uc7a5\", \"\\uc2dc\\uc7a5\", \"\\uc2dc\\ud765\", \"\\uc2dd\\ub2f9\", \"\\uc2dd\\uc0ac\", \"\\uc2e0\\ub9bc\", \"\\uc2e0\\ud765\\uc5ed\", \"\\uc2e0\\ud765\\uc5ed\", \"\\uc544\\uc0b0\", \"\\uc544\\uc2dc\\uc544\\ub4dc\", \"\\uc544\\uc6b8\\ub81b\", \"\\uc544\\uc6b8\\ub81b\", \"\\uc544\\ud2b8\", \"\\uc544\\ud2b8\", \"\\uc544\\ud2b8\", \"\\uc544\\ud2b8\", \"\\uc544\\ud30c\\ud2b8\", \"\\uc544\\ud30c\\ud2b8\", \"\\uc548\\uc0b0\", \"\\uc548\\uc591\", \"\\uc548\\uc8fc\", \"\\uc591\\uc77c\", \"\\uc5b4\\ud50c\", \"\\uc5c4\\ub9c8\", \"\\uc5ec\\uae30\", \"\\uc5ec\\uae30\", \"\\uc5ec\\uae30\", \"\\uc601\\uc5b4\", \"\\uc601\\uc5c5\", \"\\uc601\\uc5c5\", \"\\uc601\\ud48d\\ubb38\\uace0\", \"\\uc601\\ud654\", \"\\uc601\\ud654\", \"\\uc601\\ud654\", \"\\uc601\\ud654\", \"\\uc601\\ud654\\uad00\", \"\\uc601\\ud654\\uad00\", \"\\uc601\\ud654\\uad00\", \"\\uc601\\ud654\\uad00\", \"\\uc601\\ud654\\uad00\", \"\\uc601\\ud654\\uc81c\", \"\\uc608\\ub9e4\", \"\\uc608\\ub9e4\", \"\\uc608\\uc57d\", \"\\uc608\\uc57d\", \"\\uc608\\uc804\", \"\\uc608\\uc815\", \"\\uc608\\uc815\", \"\\uc608\\uc815\", \"\\uc624\\ub298\", \"\\uc624\\ub298\", \"\\uc624\\ub298\", \"\\uc624\\ub298\", \"\\uc624\\ub298\", \"\\uc624\\ub298\", \"\\uc624\\uc0b0\", \"\\uc624\\ud508\", \"\\uc624\\ud508\", \"\\uc624\\ud508\", \"\\uc624\\ud508\", \"\\uc624\\ud508\", \"\\uc624\\ud53c\\uc2a4\\ud154\", \"\\uc628\\ub77c\\uc778\", \"\\uc628\\ub77c\\uc778\", \"\\uc62c\\ub9ac\\ube0c\\uc601\", \"\\uc641\\uc2f1\", \"\\uc644\\uc804\", \"\\uc694\\uc998\", \"\\uc694\\uc998\", \"\\uc6b4\\ub3d9\", \"\\uc6d0\\ub798\", \"\\uc6d0\\ub8f8\", \"\\uc6d0\\uc8fc\", \"\\uc6d4\\ub4dc\", \"\\uc6d4\\ub4dc\", \"\\uc6d4\\uc138\", \"\\uc704\\ub840\", \"\\uc704\\uce58\", \"\\uc704\\uce58\", \"\\uc704\\uce58\", \"\\uc740\\ud589\", \"\\uc774\\ub9c8\\ud2b8\", \"\\uc774\\ubca4\\ud2b8\", \"\\uc774\\ubca4\\ud2b8\", \"\\uc774\\uc0c1\", \"\\uc774\\uc0c1\", \"\\uc774\\uc6a9\", \"\\uc774\\uc6a9\", \"\\uc774\\uc6a9\", \"\\uc775\\uc0b0\", \"\\uc778\\uadfc\", \"\\uc778\\uc0ac\", \"\\uc778\\uc811\", \"\\uc778\\ud504\\ub77c\", \"\\uc77c\\uc694\\uc77c\", \"\\uc77c\\uc694\\uc77c\", \"\\uc77c\\uc694\\uc77c\", \"\\uc77c\\uc694\\uc77c\", \"\\uc77c\\uc815\", \"\\uc77c\\uc815\", \"\\uc784\\ub300\", \"\\uc784\\uc601\\uc6c5\", \"\\uc785\\uad6c\", \"\\uc785\\uad6c\", \"\\uc785\\uc810\", \"\\uc785\\uc9c0\", \"\\uc790\\ub140\", \"\\uc791\\ud488\", \"\\uc800\\ub141\", \"\\uc800\\ub141\", \"\\uc801\\ub9bd\", \"\\uc801\\uc6a9\", \"\\uc801\\uc6a9\", \"\\uc810\\uc2ec\", \"\\uc810\\uc2ec\\uc2dc\\uac04\", \"\\uc815\\ub9d0\", \"\\uc815\\ub9d0\", \"\\uc815\\ub9d0\", \"\\uc815\\ub9d0\", \"\\uc81c\\uacf5\", \"\\uc81c\\uc774\", \"\\uc81c\\uc791\", \"\\uc8fc\\uac70\", \"\\uc8fc\\ubbfc\", \"\\uc8fc\\ubcc0\", \"\\uc8fc\\ubcc0\", \"\\uc8fc\\uc5f0\", \"\\uc8fc\\uc9d3\\uc218\", \"\\uc8fc\\ucc28\", \"\\uc8fc\\ucc28\", \"\\uc8fc\\ucc28\", \"\\uc8fc\\ucc28\", \"\\uc8fc\\ucc28\\uc7a5\", \"\\uc8fc\\ucc28\\uc7a5\", \"\\uc8fc\\ucc28\\uc7a5\", \"\\uc911\\uace0\", \"\\uc911\\uace0\", \"\\uc911\\uad6c\", \"\\uc911\\uc559\", \"\\uc911\\uc559\", \"\\uc911\\uc559\", \"\\uc911\\uc559\\uc2dc\\uc7a5\", \"\\uc99d\\uc815\", \"\\uc99d\\uc815\", \"\\uc9c0\\uad6c\", \"\\uc9c0\\uad6c\", \"\\uc9c0\\uad6c\", \"\\uc9c0\\uc2dd\", \"\\uc9c0\\uc5ed\", \"\\uc9c0\\uc5ed\", \"\\uc9c4\\uc9dc\", \"\\uc9c4\\ud574\", \"\\uc9c4\\ud589\", \"\\uc9c4\\ud589\", \"\\ucc28\\ub7c9\", \"\\ucc3e\\uae30\", \"\\ucc3e\\uae30\", \"\\ucc98\\uc74c\", \"\\ucc98\\uc74c\", \"\\ucc98\\uc74c\", \"\\ucc9c\\uc6d0\", \"\\uccad\\uad6c\", \"\\ucd08\\ub4f1\\ud559\\uad50\", \"\\ucd08\\ubc25\", \"\\ucd94\\uc11d\", \"\\ucd9c\\uad6c\", \"\\ucd9c\\uad6c\", \"\\ucd9c\\uad6c\", \"\\ucd9c\\uc5f0\", \"\\ucd9c\\ucc98\", \"\\ucd9c\\ucc98\", \"\\ucda9\\uc7a5\\ub85c\", \"\\uce5c\\uad6c\", \"\\uce5c\\uad6c\", \"\\uce5c\\uad6c\", \"\\uce60\\uace1\", \"\\uce74\\ub4dc\", \"\\uce74\\ud398\", \"\\uce74\\ud398\", \"\\uce74\\ud398\", \"\\uce74\\ud398\", \"\\uce90\\uc2dc\", \"\\ucf54\\ub85c\\ub098\", \"\\ucf54\\ub85c\\ub098\", \"\\ucf54\\ub85c\\ub098\", \"\\ucf54\\ub85c\\ub098\", \"\\ucf54\\uc5d1\\uc2a4\", \"\\ucf64\\ubcf4\", \"\\ucfe0\\uc6b0\", \"\\ucfe0\\ud3f0\", \"\\ud074\\ub77c\\uc774\\ub108\", \"\\ud0a4\\uc988\", \"\\ud0a4\\uc988\", \"\\ud0b4\\uc2a4\", \"\\ud0b4\\uc2a4\", \"\\ud0b9\\ub364\", \"\\ud0c0\\uace0\", \"\\ud0c0\\uc6cc\", \"\\ud0c0\\uc6cc\", \"\\ud0c0\\uc6cc\", \"\\ud0c0\\uc6cc\", \"\\ud14c\\uc774\\ube14\", \"\\ud1a0\\uc775\", \"\\ud1b5\\ud569\", \"\\ud2b8\\ub86f\", \"\\ud2f0\\ucf13\", \"\\ud2f0\\ucf13\", \"\\ud2f0\\ucf13\", \"\\ud30c\\uc2a4\\ud0c0\", \"\\ud398\\uc774\", \"\\ud3b8\\uc758\", \"\\ud3c9\\uc77c\", \"\\ud3ec\\uc2a4\\ud130\", \"\\ud3ec\\uc778\\ud2b8\", \"\\ud3ec\\uc778\\ud2b8\", \"\\ud50c\\ub809\\uc2a4\", \"\\ud544\\ub4dc\", \"\\ud544\\ub77c\\ud14c\\uc2a4\", \"\\ud558\\ub298\", \"\\ud558\\ub298\", \"\\ud55c\\ub3c4\", \"\\ud560\\uc778\", \"\\ud56d\\uc0c1\", \"\\ud5a5\\ub0a8\", \"\\ud61c\\ud0dd\", \"\\ud638\\uc810\", \"\\ud648\\ud398\\uc774\\uc9c0\", \"\\ud648\\ud398\\uc774\\uc9c0\", \"\\ud648\\ud50c\\ub7ec\\uc2a4\", \"\\ud658\\uacbd\", \"\\ud734\\ubb34\"]}, \"R\": 30, \"lambda.step\": 0.01, \"plot.opts\": {\"xlab\": \"PC1\", \"ylab\": \"PC2\"}, \"topic.order\": [1, 4, 5, 6, 3, 2]};\n",
       "\n",
       "function LDAvis_load_lib(url, callback){\n",
       "  var s = document.createElement('script');\n",
       "  s.src = url;\n",
       "  s.async = true;\n",
       "  s.onreadystatechange = s.onload = callback;\n",
       "  s.onerror = function(){console.warn(\"failed to load library \" + url);};\n",
       "  document.getElementsByTagName(\"head\")[0].appendChild(s);\n",
       "}\n",
       "\n",
       "if(typeof(LDAvis) !== \"undefined\"){\n",
       "   // already loaded: just create the visualization\n",
       "   !function(LDAvis){\n",
       "       new LDAvis(\"#\" + \"ldavis_el2285615287728350244031334389\", ldavis_el2285615287728350244031334389_data);\n",
       "   }(LDAvis);\n",
       "}else if(typeof define === \"function\" && define.amd){\n",
       "   // require.js is available: use it to load d3/LDAvis\n",
       "   require.config({paths: {d3: \"https://d3js.org/d3.v5\"}});\n",
       "   require([\"d3\"], function(d3){\n",
       "      window.d3 = d3;\n",
       "      LDAvis_load_lib(\"https://cdn.jsdelivr.net/gh/bmabey/pyLDAvis@3.3.1/pyLDAvis/js/ldavis.v3.0.0.js\", function(){\n",
       "        new LDAvis(\"#\" + \"ldavis_el2285615287728350244031334389\", ldavis_el2285615287728350244031334389_data);\n",
       "      });\n",
       "    });\n",
       "}else{\n",
       "    // require.js not available: dynamically load d3 & LDAvis\n",
       "    LDAvis_load_lib(\"https://d3js.org/d3.v5.js\", function(){\n",
       "         LDAvis_load_lib(\"https://cdn.jsdelivr.net/gh/bmabey/pyLDAvis@3.3.1/pyLDAvis/js/ldavis.v3.0.0.js\", function(){\n",
       "                 new LDAvis(\"#\" + \"ldavis_el2285615287728350244031334389\", ldavis_el2285615287728350244031334389_data);\n",
       "            })\n",
       "         });\n",
       "}\n",
       "</script>"
      ],
      "text/plain": [
       "<IPython.core.display.HTML object>"
      ]
     },
     "execution_count": 21,
     "metadata": {},
     "output_type": "execute_result"
    }
   ],
   "source": [
    "\n",
    "import pyLDAvis.gensim_models\n",
    "import pyLDAvis.gensim_models as gensimvis\n",
    "\n",
    "\n",
    "pyLDAvis.enable_notebook()\n",
    "vis = pyLDAvis.gensim_models.prepare(ldamodel, corpus, dictionary)\n",
    "\n",
    "# https://lovit.github.io/nlp/2018/09/27/pyldavis_lda/\n",
    "# 시각화는 1- 부터 시작함\n",
    "pyLDAvis.display(vis)"
   ]
  },
  {
   "cell_type": "markdown",
   "id": "fa20f490",
   "metadata": {},
   "source": [
    "λ라는 값은 [0, 1] 사이에서 조절가능함\n",
    "λ를 1 로 설정하면 토픽 별로 가장 자주 등장하는 단어들을 우선적으로 키워드로 선택한다는 의미이며,\n",
    "λ를 0 에 가깝게 설정할수록 토픽 간에 차이가 많이 나는 단어를 선택한다는 의미임"
   ]
  },
  {
   "cell_type": "code",
   "execution_count": null,
   "id": "18523e3f",
   "metadata": {},
   "outputs": [],
   "source": []
  },
  {
   "cell_type": "code",
   "execution_count": null,
   "id": "9be486f4",
   "metadata": {},
   "outputs": [],
   "source": []
  }
 ],
 "metadata": {
  "kernelspec": {
   "display_name": "Python 3 (ipykernel)",
   "language": "python",
   "name": "python3"
  },
  "language_info": {
   "codemirror_mode": {
    "name": "ipython",
    "version": 3
   },
   "file_extension": ".py",
   "mimetype": "text/x-python",
   "name": "python",
   "nbconvert_exporter": "python",
   "pygments_lexer": "ipython3",
   "version": "3.9.12"
  }
 },
 "nbformat": 4,
 "nbformat_minor": 5
}
